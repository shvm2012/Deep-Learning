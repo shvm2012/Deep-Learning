{
 "cells": [
  {
   "cell_type": "markdown",
   "metadata": {},
   "source": [
    "# Language Identification for Code-mixed Indian Languages (English_Bengali)"
   ]
  },
  {
   "cell_type": "markdown",
   "metadata": {},
   "source": [
    "#### useful imports"
   ]
  },
  {
   "cell_type": "code",
   "execution_count": 172,
   "metadata": {},
   "outputs": [
    {
     "data": {
      "text/html": [
       "<style>.container { width:100% !important; }</style>"
      ],
      "text/plain": [
       "<IPython.core.display.HTML object>"
      ]
     },
     "metadata": {},
     "output_type": "display_data"
    }
   ],
   "source": [
    "from IPython.core.display import display, HTML\n",
    "display(HTML(\"<style>.container { width:100% !important; }</style>\"))\n",
    "\n",
    "import warnings\n",
    "warnings.filterwarnings(\"ignore\")\n",
    "\n",
    "import numpy as np, pandas as pd\n",
    "import itertools\n",
    "import matplotlib.pyplot as plt\n",
    "import seaborn as sns\n",
    "import scikitplot as skplt\n",
    "\n",
    "import nltk\n",
    "from nltk.tag.util import untag\n",
    "from sklearn_crfsuite import CRF\n",
    "from sklearn_crfsuite import metrics\n",
    "from sklearn.model_selection import KFold\n",
    "\n",
    "from sklearn.metrics import accuracy_score\n",
    "from sklearn.metrics import f1_score\n",
    "from sklearn.metrics import confusion_matrix \n",
    "from sklearn.model_selection import KFold\n",
    "from sklearn.model_selection import cross_val_score\n",
    "from sklearn.model_selection import GridSearchCV\n",
    "\n",
    "from sklearn.metrics import make_scorer"
   ]
  },
  {
   "cell_type": "markdown",
   "metadata": {},
   "source": [
    "#### data loading, cleaning and preparation"
   ]
  },
  {
   "cell_type": "code",
   "execution_count": 42,
   "metadata": {},
   "outputs": [],
   "source": [
    "def data_loader(files):\n",
    "    data = []\n",
    "    sent = []\n",
    "    for file in files:\n",
    "        with open(file, 'r', encoding=\"utf-8\") as temp:\n",
    "            for line in temp:\n",
    "                if line.strip() != '':\n",
    "                    sent.append(line.strip().split('\\t'))\n",
    "                else:\n",
    "                    if len(sent) > 0:\n",
    "                        data.append(sent)\n",
    "                        sent = []\n",
    "    return data"
   ]
  },
  {
   "cell_type": "code",
   "execution_count": 43,
   "metadata": {},
   "outputs": [],
   "source": [
    "sentences = data_loader(['data/Bengali_English_FB.txt', 'data/Bengali_English_Twitter.txt',\"data/Bengali_English_SocialMedia_2015.txt\"])"
   ]
  },
  {
   "cell_type": "code",
   "execution_count": 44,
   "metadata": {},
   "outputs": [
    {
     "data": {
      "text/plain": [
       "3157"
      ]
     },
     "execution_count": 44,
     "metadata": {},
     "output_type": "execute_result"
    }
   ],
   "source": [
    "len(sentences) # total code mixed sentences in the corpus"
   ]
  },
  {
   "cell_type": "code",
   "execution_count": 45,
   "metadata": {},
   "outputs": [
    {
     "data": {
      "text/plain": [
       "[['fake', 'en', 'JJ'],\n",
       " ['holeo', 'bn', 'N_NNP'],\n",
       " ['proposal', 'en', 'N_NN'],\n",
       " ['pay', 'bn', 'V_VM'],\n",
       " ['na', 'bn', 'RP_NEG'],\n",
       " ['..', 'univ', 'RD_PUNC'],\n",
       " ['tora', 'bn', 'PR_PRP'],\n",
       " ['pachchis', 'bn', 'N_NN'],\n",
       " ['atleast', 'en', 'RB_AMN'],\n",
       " ['...', 'univ', 'RD_PUNC'],\n",
       " [':D', 'univ', 'E']]"
      ]
     },
     "execution_count": 45,
     "metadata": {},
     "output_type": "execute_result"
    }
   ],
   "source": [
    "sentences[0] # format :  [.........,[word, language_tag, POS_tag],....]"
   ]
  },
  {
   "cell_type": "markdown",
   "metadata": {},
   "source": [
    "##  Exploratory Data Analysis"
   ]
  },
  {
   "cell_type": "markdown",
   "metadata": {},
   "source": [
    "#### putting all words (with their Language and POS tag) in the corpus in a dataframe "
   ]
  },
  {
   "cell_type": "code",
   "execution_count": 46,
   "metadata": {},
   "outputs": [],
   "source": [
    "sent_word = []\n",
    "sent_lang = []\n",
    "sent_pos = []\n",
    "\n",
    "for line in sentences:\n",
    "    lang = []\n",
    "    word = []\n",
    "    pos = []\n",
    "    for word_lang_pos in line:\n",
    "        word.append((word_lang_pos[0]))\n",
    "        lang.append(word_lang_pos[1])\n",
    "        pos.append(word_lang_pos[2])\n",
    "    sent_word.append(word)\n",
    "    sent_lang.append(lang)\n",
    "    sent_pos.append(pos)"
   ]
  },
  {
   "cell_type": "code",
   "execution_count": 47,
   "metadata": {},
   "outputs": [],
   "source": [
    "flat_df = pd.DataFrame({\"word\":list(itertools.chain(*sent_word)),\"lang\":list(itertools.chain(*sent_lang)),\n",
    "                        \"pos\":list(itertools.chain(*sent_pos))})"
   ]
  },
  {
   "cell_type": "code",
   "execution_count": 48,
   "metadata": {},
   "outputs": [
    {
     "data": {
      "text/plain": [
       "(35774, 3)"
      ]
     },
     "execution_count": 48,
     "metadata": {},
     "output_type": "execute_result"
    }
   ],
   "source": [
    "flat_df.shape # total words = 35774"
   ]
  },
  {
   "cell_type": "code",
   "execution_count": 178,
   "metadata": {},
   "outputs": [
    {
     "data": {
      "text/html": [
       "<div>\n",
       "<style scoped>\n",
       "    .dataframe tbody tr th:only-of-type {\n",
       "        vertical-align: middle;\n",
       "    }\n",
       "\n",
       "    .dataframe tbody tr th {\n",
       "        vertical-align: top;\n",
       "    }\n",
       "\n",
       "    .dataframe thead th {\n",
       "        text-align: right;\n",
       "    }\n",
       "</style>\n",
       "<table border=\"1\" class=\"dataframe\">\n",
       "  <thead>\n",
       "    <tr style=\"text-align: right;\">\n",
       "      <th></th>\n",
       "      <th>word</th>\n",
       "      <th>lang</th>\n",
       "      <th>pos</th>\n",
       "    </tr>\n",
       "  </thead>\n",
       "  <tbody>\n",
       "    <tr>\n",
       "      <th>0</th>\n",
       "      <td>fake</td>\n",
       "      <td>en</td>\n",
       "      <td>JJ</td>\n",
       "    </tr>\n",
       "    <tr>\n",
       "      <th>1</th>\n",
       "      <td>holeo</td>\n",
       "      <td>bn</td>\n",
       "      <td>N_NNP</td>\n",
       "    </tr>\n",
       "    <tr>\n",
       "      <th>2</th>\n",
       "      <td>proposal</td>\n",
       "      <td>en</td>\n",
       "      <td>N_NN</td>\n",
       "    </tr>\n",
       "    <tr>\n",
       "      <th>3</th>\n",
       "      <td>pay</td>\n",
       "      <td>bn</td>\n",
       "      <td>V_VM</td>\n",
       "    </tr>\n",
       "    <tr>\n",
       "      <th>4</th>\n",
       "      <td>na</td>\n",
       "      <td>bn</td>\n",
       "      <td>RP_NEG</td>\n",
       "    </tr>\n",
       "  </tbody>\n",
       "</table>\n",
       "</div>"
      ],
      "text/plain": [
       "       word lang     pos\n",
       "0      fake   en      JJ\n",
       "1     holeo   bn   N_NNP\n",
       "2  proposal   en    N_NN\n",
       "3       pay   bn    V_VM\n",
       "4        na   bn  RP_NEG"
      ]
     },
     "execution_count": 178,
     "metadata": {},
     "output_type": "execute_result"
    }
   ],
   "source": [
    "flat_df.head() # first five rows of the dataframe"
   ]
  },
  {
   "cell_type": "markdown",
   "metadata": {},
   "source": [
    "#### top 20 unique words"
   ]
  },
  {
   "cell_type": "code",
   "execution_count": 50,
   "metadata": {},
   "outputs": [
    {
     "data": {
      "text/plain": [
       ".       1070\n",
       ",        829\n",
       "..       578\n",
       "...      493\n",
       ":        364\n",
       "to       286\n",
       "....     264\n",
       "a        258\n",
       "the      250\n",
       "na       242\n",
       "r        225\n",
       "er       213\n",
       "e        194\n",
       "?        190\n",
       "of       188\n",
       "you      180\n",
       "and      172\n",
       "i        171\n",
       "u        171\n",
       "ami      170\n",
       "Name: word, dtype: int64"
      ]
     },
     "execution_count": 50,
     "metadata": {},
     "output_type": "execute_result"
    }
   ],
   "source": [
    "flat_df.word.value_counts()[:20]"
   ]
  },
  {
   "cell_type": "markdown",
   "metadata": {},
   "source": [
    "#### Language Tags analysis"
   ]
  },
  {
   "cell_type": "code",
   "execution_count": 53,
   "metadata": {},
   "outputs": [
    {
     "name": "stdout",
     "output_type": "stream",
     "text": [
      "total language tags:  14 \n",
      "\n",
      "['acro' 'acro+bn_suffix' 'acro+en_suffix' 'bn' 'en' 'en+bn_suffix' 'hi'\n",
      " 'mixed' 'ne' 'ne+bn_suffix' 'ne+en_suffix' 'undef' 'univ' 'univ..']\n"
     ]
    }
   ],
   "source": [
    "print(\"total language tags: \",len(np.unique(flat_df.lang)),\"\\n\") \n",
    "print(np.unique(flat_df.lang))"
   ]
  },
  {
   "cell_type": "code",
   "execution_count": 179,
   "metadata": {},
   "outputs": [
    {
     "name": "stdout",
     "output_type": "stream",
     "text": [
      "bn              0.384777\n",
      "en              0.368452\n",
      "univ            0.187007\n",
      "ne              0.028345\n",
      "hi              0.018729\n",
      "acro            0.008582\n",
      "undef           0.002432\n",
      "ne+bn_suffix    0.000867\n",
      "en+bn_suffix    0.000475\n",
      "ne+en_suffix    0.000168\n",
      "Name: lang, dtype: float64\n"
     ]
    },
    {
     "data": {
      "image/png": "[encoded data removed]",
      "text/plain": [
       "<Figure size 432x288 with 1 Axes>"
      ]
     },
     "metadata": {},
     "output_type": "display_data"
    }
   ],
   "source": [
    "#plotting top 5 language tags in the dataset\n",
    "\n",
    "(flat_df.lang.value_counts(normalize = True)[:5]).plot(kind = \"bar\") \n",
    "plt.xlabel(\"language\")\n",
    "plt.ylabel(\"proportion\")\n",
    "plt.title(\"language tags distribution (top 5)\")\n",
    "\n",
    "print(flat_df.lang.value_counts(normalize = True)[:10])"
   ]
  },
  {
   "cell_type": "markdown",
   "metadata": {},
   "source": [
    "#### POS tags distribution"
   ]
  },
  {
   "cell_type": "code",
   "execution_count": 63,
   "metadata": {},
   "outputs": [
    {
     "name": "stdout",
     "output_type": "stream",
     "text": [
      "total POS tags:  39 \n",
      "\n",
      "['#' '$' '@' 'CC' 'DM_DMD' 'DM_DMI' 'DM_DMQ' 'DM_DMR' 'DT' 'E' 'JJ' 'N_NN'\n",
      " 'N_NNP' 'N_NNV' 'N_NST' 'PR_PRC' 'PR_PRF' 'PR_PRL' 'PR_PRP' 'PR_PRQ'\n",
      " 'PSP' 'QT_QTC' 'QT_QTF' 'QT_QTO' 'QY_QTO' 'RB_ALC' 'RB_AMN' 'RD_ECH'\n",
      " 'RD_PUNC' 'RD_RDF' 'RD_SYM' 'RP_INJ' 'RP_INTF' 'RP_NEG' 'RP_RPD' 'U'\n",
      " 'V_VAUX' 'V_VM' '~']\n"
     ]
    }
   ],
   "source": [
    "print(\"total POS tags: \",len(np.unique(flat_df.pos)),\"\\n\") \n",
    "print(np.unique(flat_df.pos))"
   ]
  },
  {
   "cell_type": "code",
   "execution_count": 180,
   "metadata": {},
   "outputs": [
    {
     "name": "stdout",
     "output_type": "stream",
     "text": [
      "N_NN       0.217141\n",
      "RD_PUNC    0.151563\n",
      "V_VM       0.125175\n",
      "N_NNP      0.091659\n",
      "PR_PRP     0.063258\n",
      "PSP        0.062112\n",
      "JJ         0.051546\n",
      "RD_RDF     0.033292\n",
      "DT         0.029826\n",
      "RB_AMN     0.027031\n",
      "Name: pos, dtype: float64\n"
     ]
    },
    {
     "data": {
      "image/png": "[encoded data removed]",
      "text/plain": [
       "<Figure size 432x288 with 1 Axes>"
      ]
     },
     "metadata": {},
     "output_type": "display_data"
    }
   ],
   "source": [
    "#plotting top 5 POS tags in the dataset\n",
    "\n",
    "(flat_df.pos.value_counts(normalize = True)[:5]).plot(kind = \"bar\") \n",
    "plt.xlabel(\"POS tag\")\n",
    "plt.ylabel(\"proportion\")\n",
    "plt.title(\"POS tags distribution (top 5)\")\n",
    "\n",
    "print(flat_df.pos.value_counts(normalize = True)[:10])"
   ]
  },
  {
   "cell_type": "markdown",
   "metadata": {},
   "source": [
    "#### POS tags distribution for English language words"
   ]
  },
  {
   "cell_type": "code",
   "execution_count": 181,
   "metadata": {},
   "outputs": [
    {
     "name": "stdout",
     "output_type": "stream",
     "text": [
      "N_NN      0.276686\n",
      "V_VM      0.203323\n",
      "PSP       0.100523\n",
      "PR_PRP    0.095061\n",
      "JJ        0.084212\n",
      "DT        0.078143\n",
      "RB_AMN    0.062059\n",
      "N_NNP     0.035657\n",
      "Name: pos, dtype: float64\n"
     ]
    },
    {
     "data": {
      "image/png": "[encoded data removed]",
      "text/plain": [
       "<Figure size 432x288 with 1 Axes>"
      ]
     },
     "metadata": {},
     "output_type": "display_data"
    }
   ],
   "source": [
    "#plotting top 5 POS tags for english words\n",
    "\n",
    "(flat_df.loc[flat_df.lang==\"en\",:].pos.value_counts(normalize = True)[:5]).plot(kind = \"bar\") \n",
    "plt.xlabel(\"POS tag\")\n",
    "plt.ylabel(\"proportion\")\n",
    "plt.title(\"POS tags distribution for english language words (top 5)\")\n",
    "\n",
    "print(flat_df.loc[flat_df.lang==\"en\",:].pos.value_counts(normalize = True)[:8])"
   ]
  },
  {
   "cell_type": "code",
   "execution_count": 77,
   "metadata": {},
   "outputs": [],
   "source": [
    "# flat_df.to_csv(\"en-bn_word_distribution.csv\",index=False, columns=flat_df.columns) # save data to csv for further analysis"
   ]
  },
  {
   "cell_type": "markdown",
   "metadata": {},
   "source": [
    "### Data Preparation for  CRF modeling"
   ]
  },
  {
   "cell_type": "markdown",
   "metadata": {},
   "source": [
    "#### selecting data for Language Identification (dropping POS tags) ; # sentences format :  [.........,[word,  language_tag],....]"
   ]
  },
  {
   "cell_type": "code",
   "execution_count": 100,
   "metadata": {},
   "outputs": [],
   "source": [
    "new_sentences = []\n",
    "for line in sentences:\n",
    "    sent = []\n",
    "    for word_lang_pos in line:\n",
    "        sent.append([word_lang_pos[0],word_lang_pos[1]])\n",
    "    new_sentences.append(sent)\n",
    "\n",
    "all_sentences = np.array(new_sentences)"
   ]
  },
  {
   "cell_type": "markdown",
   "metadata": {},
   "source": [
    "#### Feature extractor function : extracts features for the words of a given sentences"
   ]
  },
  {
   "cell_type": "code",
   "execution_count": 82,
   "metadata": {},
   "outputs": [],
   "source": [
    "def crf_feature_extractor(sentence,index):\n",
    "    \"\"\" index : index of a perticular word whose features to be extracted \"\"\"\n",
    "        return {\n",
    "         \"word\": sentence[index].lower(),\n",
    "         \"is_all_caps\": sentence[index].upper() == sentence[index],\n",
    "         \"prefix-1\": sentence[index][0],\n",
    "         \"prefix-2\": sentence[index][:2],\n",
    "         \"prefix-3\": sentence[index][:3],\n",
    "         \"suffix-1\": sentence[index][-1],\n",
    "         \"suffix-2\": sentence[index][-2:],\n",
    "         \"suffix-3\": sentence[index][-3:],\n",
    "         \"suffix-4\": sentence[index][-4:],\n",
    "         \"is_2_len\" : 1 if len(sentence[index])==2 else 0,\n",
    "         \"prev_word_istitle\":1 if index==1 else 0,\n",
    "         \"has_pun\" : pun_bool(sentence[index]),\n",
    "         \"capitals_inside\": sentence[index][1:].lower() != sentence[index][1:] }"
   ]
  },
  {
   "cell_type": "code",
   "execution_count": 83,
   "metadata": {},
   "outputs": [],
   "source": [
    "def pun_bool(word):\n",
    "    \"\"\" function to identify if word has any special punctuationn marks or not\"\"\"\n",
    "        \"\"\"function could be written more efficiently, but for time being I am just leaving it as it is\"\"\"\n",
    "    sum = False\n",
    "    if \"!\" in word:\n",
    "        sum = True\n",
    "    if \"@\" in word:\n",
    "        sum = True\n",
    "    if \"#\" in word:\n",
    "        sum = True\n",
    "    if \"$\" in word:\n",
    "        sum = True\n",
    "    if \"%\" in word:\n",
    "        sum = True\n",
    "    if \"&\" in word:\n",
    "        sum = True\n",
    "    if \"*\" in word:\n",
    "        sum = True\n",
    "    if \"-\" in word:\n",
    "        sum = True\n",
    "    if \"_\" in word:\n",
    "        sum = True\n",
    "    if \"+\" in word:\n",
    "        sum = True\n",
    "    if \"|\" in word:\n",
    "        sum = True\n",
    "    if \":\" in word:\n",
    "        sum = True\n",
    "    if \";\" in word:\n",
    "        sum = True\n",
    "    if \"<\" in word:\n",
    "        sum = True\n",
    "    if \">\" in word:\n",
    "        sum = True    \n",
    "    if \"?\" in word:\n",
    "        sum = True\n",
    "    if \",\" in word:\n",
    "        sum = True\n",
    "    if \"/\" in word:\n",
    "        sum = True\n",
    "    return sum"
   ]
  },
  {
   "cell_type": "code",
   "execution_count": 95,
   "metadata": {},
   "outputs": [],
   "source": [
    "def transform_to_dataset(tagged_sentences):\n",
    "    \"\"\" function takes all the tagged sentences in the data set and for each sentence returns a list of feature dictionary \n",
    "        (1 feature dictionary per word in a sequence) and also the list of word labels of the sentences \"\"\"\n",
    "    \n",
    "    X, y = [], []\n",
    "    for tagged in tagged_sentences:\n",
    "        X.append([crf_feature_extractor(untag(tagged), index) for index in range(len(tagged))])\n",
    "        y.append([tag for _, tag in tagged])\n",
    "    return X, y"
   ]
  },
  {
   "cell_type": "markdown",
   "metadata": {},
   "source": [
    "### CRF modeling"
   ]
  },
  {
   "cell_type": "markdown",
   "metadata": {},
   "source": [
    "#### Initial test harness : 10 fold cross validation (get average accuracy estimate)"
   ]
  },
  {
   "cell_type": "code",
   "execution_count": 111,
   "metadata": {},
   "outputs": [
    {
     "name": "stdout",
     "output_type": "stream",
     "text": [
      "average accuracy :  94.02 %\n",
      "average f1_score :  93.72 %\n"
     ]
    }
   ],
   "source": [
    "kfold = KFold(n_splits = 10, shuffle = True, random_state = 7)\n",
    "\n",
    "accuracy = []\n",
    "f1 = []\n",
    "\n",
    "for train_index, test_index in kfold.split(all_sentences):\n",
    "    \n",
    "    X_train, y_train = transform_to_dataset(all_sentences[train_index])\n",
    "    X_test, y_test = transform_to_dataset(all_sentences[test_index])\n",
    "    \n",
    "    model = CRF(c1 = 1.0, c2 = 0.001, max_iterations = 100)\n",
    "    model.fit(X_train, y_train)\n",
    "    \n",
    "    y_pred = model.predict(X_test)\n",
    "    \n",
    "    accuracy.append(accuracy_score(list(itertools.chain(*y_test)),list(itertools.chain(*y_pred))))\n",
    "    f1.append(metrics.flat_f1_score(y_test,y_pred,average = \"weighted\"))\n",
    "    \n",
    "print(\"average accuracy : \",np.round(np.mean(accuracy)*100,2),\"%\")\n",
    "print(\"average f1_score : \",np.round(np.mean(f1)*100,2),\"%\")"
   ]
  },
  {
   "cell_type": "markdown",
   "metadata": {},
   "source": [
    "#### Hyperparameters optimization : finding best hyperparameters which maximizes the F1 score"
   ]
  },
  {
   "cell_type": "markdown",
   "metadata": {},
   "source": [
    "##### Grid Search cross validation (runnning this takes reasonable time ~ 18 minutes )"
   ]
  },
  {
   "cell_type": "code",
   "execution_count": 115,
   "metadata": {},
   "outputs": [],
   "source": [
    "X,y = transform_to_dataset(all_sentences)"
   ]
  },
  {
   "cell_type": "code",
   "execution_count": 137,
   "metadata": {},
   "outputs": [],
   "source": [
    "# evaluation metric will be weighted F1 score\n",
    "f1_scorer = make_scorer(metrics.flat_f1_score, average=\"weighted\")\n",
    "\n",
    "# grid_params = {\"algorithm\": [\"lbfgs\",\"l2sgd\"],\n",
    "#                \"c1\": np.arange(0.4,1.3,0.1),\n",
    "#                \"c2\" :np.arange(0.0006,0.0016,0.0002),\n",
    "#                \"max_iterations\": [75,100,125,150]}\n",
    "\n",
    "grid_params = {\"algorithm\": [\"lbfgs\"],\n",
    "               \"c1\": [0.4,0.6,0.8,1.0,1.2],\n",
    "               \"c2\" :[0.0008,0.001,0.0012,0.0014],\n",
    "               \"max_iterations\": [75,100,125,150]}\n",
    "\n",
    "crf_model = CRF()\n",
    "kfold = KFold(n_splits = 3, random_state = 7)\n",
    "grid = GridSearchCV(estimator = crf_model, param_grid = grid_params, scoring = f1_scorer, cv = kfold)"
   ]
  },
  {
   "cell_type": "code",
   "execution_count": 138,
   "metadata": {},
   "outputs": [
    {
     "name": "stdout",
     "output_type": "stream",
     "text": [
      "Wall time: 17min 11s\n"
     ]
    }
   ],
   "source": [
    "%%time\n",
    "grid_result = grid.fit(X,y)"
   ]
  },
  {
   "cell_type": "code",
   "execution_count": 144,
   "metadata": {},
   "outputs": [
    {
     "data": {
      "text/plain": [
       "CRF(algorithm='lbfgs', all_possible_states=None, all_possible_transitions=None,\n",
       "    averaging=None, c=None, c1=0.4, c2=0.0014, calibration_candidates=None,\n",
       "    calibration_eta=None, calibration_max_trials=None, calibration_rate=None,\n",
       "    calibration_samples=None, delta=None, epsilon=None, error_sensitive=None,\n",
       "    gamma=None, keep_tempfiles=None, linesearch=None, max_iterations=75,\n",
       "    max_linesearch=None, min_freq=None, model_filename=None, num_memories=None,\n",
       "    pa_type=None, period=None, trainer_cls=None, variance=None, verbose=False)"
      ]
     },
     "execution_count": 144,
     "metadata": {},
     "output_type": "execute_result"
    }
   ],
   "source": [
    "best_crf_model = grid_result.best_estimator_\n",
    "best_crf_model"
   ]
  },
  {
   "cell_type": "code",
   "execution_count": 145,
   "metadata": {},
   "outputs": [
    {
     "data": {
      "text/plain": [
       "0.9265657727561876"
      ]
     },
     "execution_count": 145,
     "metadata": {},
     "output_type": "execute_result"
    }
   ],
   "source": [
    "grid_result.best_score_"
   ]
  },
  {
   "cell_type": "markdown",
   "metadata": {},
   "source": [
    " #### 10 fold cross validation (get average accuracy estimate  with best found CRF hyperparameters)"
   ]
  },
  {
   "cell_type": "code",
   "execution_count": 146,
   "metadata": {},
   "outputs": [
    {
     "name": "stdout",
     "output_type": "stream",
     "text": [
      "average accuracy :  94.65 %\n",
      "average f1_score :  94.4 %\n"
     ]
    }
   ],
   "source": [
    "kfold = KFold(n_splits = 10, shuffle = True, random_state = 7)\n",
    "\n",
    "accuracy = []\n",
    "f1 = []\n",
    "\n",
    "for train_index, test_index in kfold.split(all_sentences):\n",
    "    \n",
    "    X_train, y_train = transform_to_dataset(all_sentences[train_index])\n",
    "    X_test, y_test = transform_to_dataset(all_sentences[test_index])\n",
    "    \n",
    "    model = best_crf_model\n",
    "    model.fit(X_train, y_train)\n",
    "    \n",
    "    y_pred = model.predict(X_test)\n",
    "    \n",
    "    accuracy.append(accuracy_score(list(itertools.chain(*y_test)),list(itertools.chain(*y_pred))))\n",
    "    f1.append(metrics.flat_f1_score(y_test,y_pred,average = \"weighted\"))\n",
    "    \n",
    "print(\"average accuracy : \",np.round(np.mean(accuracy)*100,2),\"%\")\n",
    "print(\"average f1_score : \",np.round(np.mean(f1)*100,2),\"%\")"
   ]
  },
  {
   "cell_type": "markdown",
   "metadata": {},
   "source": [
    "<i>We can see a bit improvement in the results from the previous 10 fold cross validation</i>"
   ]
  },
  {
   "cell_type": "markdown",
   "metadata": {},
   "source": [
    "#### Splitting the data into Train and Test set and fitting the model to access classification performance"
   ]
  },
  {
   "cell_type": "code",
   "execution_count": 147,
   "metadata": {},
   "outputs": [],
   "source": [
    "X,y = transform_to_dataset(all_sentences)"
   ]
  },
  {
   "cell_type": "code",
   "execution_count": 148,
   "metadata": {},
   "outputs": [],
   "source": [
    "from sklearn.model_selection import train_test_split\n",
    "X_train, X_test, y_train, y_test = train_test_split(X,y,test_size = 0.25,random_state = 7)"
   ]
  },
  {
   "cell_type": "code",
   "execution_count": 149,
   "metadata": {},
   "outputs": [],
   "source": [
    "model = best_crf_model\n",
    "model.fit(X_train, y_train)\n",
    "    \n",
    "y_pred = model.predict(X_test)"
   ]
  },
  {
   "cell_type": "code",
   "execution_count": 153,
   "metadata": {},
   "outputs": [
    {
     "name": "stdout",
     "output_type": "stream",
     "text": [
      "accuracy =  0.9388\n",
      "f1_micro =  0.9388\n",
      "f1_weighted =  0.936\n",
      "f1_macro =  0.5851\n"
     ]
    }
   ],
   "source": [
    "print(\"accuracy = \", np.round(metrics.flat_accuracy_score(y_test,y_pred),4))\n",
    "print(\"f1_micro = \", np.round(metrics.flat_f1_score(y_test,y_pred, average = \"micro\"),4))\n",
    "print(\"f1_weighted = \", np.round(metrics.flat_f1_score(y_test,y_pred,average = \"weighted\"),4))\n",
    "print(\"f1_macro = \", np.round(metrics.flat_f1_score(y_test,y_pred,average = \"macro\"),4))"
   ]
  },
  {
   "cell_type": "code",
   "execution_count": 155,
   "metadata": {},
   "outputs": [
    {
     "name": "stdout",
     "output_type": "stream",
     "text": [
      "              precision    recall  f1-score   support\n",
      "\n",
      "        acro       0.79      0.72      0.75        68\n",
      "          bn       0.93      0.96      0.95      3238\n",
      "          en       0.95      0.96      0.95      3115\n",
      "en+bn_suffix       0.00      0.00      0.00         3\n",
      "          hi       0.78      0.57      0.66       191\n",
      "          ne       0.72      0.53      0.61       257\n",
      "ne+bn_suffix       1.00      0.46      0.63        13\n",
      "ne+en_suffix       0.00      0.00      0.00         3\n",
      "       undef       0.67      0.20      0.31        10\n",
      "        univ       0.99      0.98      0.98      1671\n",
      "\n",
      "    accuracy                           0.94      8569\n",
      "   macro avg       0.68      0.54      0.59      8569\n",
      "weighted avg       0.94      0.94      0.94      8569\n",
      "\n"
     ]
    }
   ],
   "source": [
    "## classification report\n",
    "print(metrics.flat_classification_report(y_test, y_pred))"
   ]
  },
  {
   "cell_type": "code",
   "execution_count": 159,
   "metadata": {},
   "outputs": [
    {
     "data": {
      "text/plain": [
       "<matplotlib.axes._subplots.AxesSubplot at 0xd417ea9e80>"
      ]
     },
     "execution_count": 159,
     "metadata": {},
     "output_type": "execute_result"
    },
    {
     "data": {
      "text/plain": [
       "<Figure size 720x720 with 0 Axes>"
      ]
     },
     "metadata": {},
     "output_type": "display_data"
    },
    {
     "data": {
      "image/png": "[encoded data removed]",
      "text/plain": [
       "<Figure size 432x288 with 2 Axes>"
      ]
     },
     "metadata": {
      "needs_background": "light"
     },
     "output_type": "display_data"
    }
   ],
   "source": [
    "plt.figure(figsize=(10,10))\n",
    "skplt.metrics.plot_confusion_matrix(list(itertools.chain(*y_test)),list(itertools.chain(*y_pred)),x_tick_rotation=90,cmap=\"binary\")"
   ]
  },
  {
   "cell_type": "markdown",
   "metadata": {},
   "source": [
    "## Model fitting on whole dataset for feature weights analysis "
   ]
  },
  {
   "cell_type": "code",
   "execution_count": 160,
   "metadata": {},
   "outputs": [],
   "source": [
    "X,y = transform_to_dataset(all_sentences)"
   ]
  },
  {
   "cell_type": "code",
   "execution_count": 161,
   "metadata": {},
   "outputs": [
    {
     "data": {
      "text/plain": [
       "CRF(algorithm='lbfgs', all_possible_states=None, all_possible_transitions=None,\n",
       "    averaging=None, c=None, c1=0.4, c2=0.0014, calibration_candidates=None,\n",
       "    calibration_eta=None, calibration_max_trials=None, calibration_rate=None,\n",
       "    calibration_samples=None, delta=None, epsilon=None, error_sensitive=None,\n",
       "    gamma=None, keep_tempfiles=None, linesearch=None, max_iterations=75,\n",
       "    max_linesearch=None, min_freq=None, model_filename=None, num_memories=None,\n",
       "    pa_type=None, period=None, trainer_cls=None, variance=None, verbose=False)"
      ]
     },
     "execution_count": 161,
     "metadata": {},
     "output_type": "execute_result"
    }
   ],
   "source": [
    "model = best_crf_model\n",
    "model.fit(X, y)"
   ]
  },
  {
   "cell_type": "markdown",
   "metadata": {},
   "source": [
    "#### Language transition analysis (word to word code switching)"
   ]
  },
  {
   "cell_type": "code",
   "execution_count": 162,
   "metadata": {},
   "outputs": [
    {
     "name": "stdout",
     "output_type": "stream",
     "text": [
      "Top likely transitions:\n",
      "undef  -> undef   5.511672\n",
      "hi     -> hi      5.363168\n",
      "bn     -> bn      3.874080\n",
      "ne     -> ne      3.843556\n",
      "en     -> en      3.577426\n",
      "en     -> ne      2.858931\n",
      "bn     -> ne      2.507446\n",
      "en     -> bn      2.497689\n",
      "en     -> acro    2.409893\n",
      "bn     -> en      2.170380\n",
      "bn     -> en+bn_suffix 2.100491\n",
      "bn     -> acro    2.019263\n",
      "bn     -> univ    1.725860\n",
      "en     -> hi      1.692863\n",
      "en     -> univ    1.679905\n",
      "en     -> undef   1.638818\n",
      "acro   -> acro    1.628338\n",
      "ne     -> bn      1.628179\n",
      "hi     -> acro    1.618071\n",
      "en+bn_suffix -> acro    1.561548\n",
      "\n",
      "Top unlikely transitions:\n",
      "ne     -> acro    0.632087\n",
      "ne     -> univ    0.566266\n",
      "bn     -> undef   0.482406\n",
      "univ   -> univ    0.442698\n",
      "univ   -> acro    0.393052\n",
      "undef  -> en      0.345748\n",
      "en     -> acro+en_suffix 0.292158\n",
      "bn     -> hi      0.278639\n",
      "acro   -> undef   0.252016\n",
      "en     -> univ..  0.218355\n",
      "acro   -> univ    0.198155\n",
      "ne     -> en+bn_suffix 0.000366\n",
      "en+bn_suffix -> en      -0.059016\n",
      "hi     -> bn      -0.076191\n",
      "ne+bn_suffix -> en      -0.131463\n",
      "univ   -> ne+bn_suffix -0.288901\n",
      "mixed  -> univ    -0.388172\n",
      "ne+en_suffix -> univ    -0.444122\n",
      "en+bn_suffix -> univ    -0.870293\n",
      "ne+bn_suffix -> univ    -1.438089\n"
     ]
    }
   ],
   "source": [
    "from collections import Counter\n",
    "\n",
    "def print_transitions(trans_features):\n",
    "    for (label_from, label_to), weight in trans_features:\n",
    "        print(\"%-6s -> %-7s %0.6f\" % (label_from, label_to, weight))\n",
    "\n",
    "print(\"Top likely transitions:\")\n",
    "print_transitions(Counter(model.transition_features_).most_common(20))\n",
    "\n",
    "print(\"\\nTop unlikely transitions:\")\n",
    "print_transitions(Counter(model.transition_features_).most_common()[-20:])"
   ]
  },
  {
   "cell_type": "markdown",
   "metadata": {},
   "source": [
    "#### Top features weights analysis (positives and negatives)"
   ]
  },
  {
   "cell_type": "code",
   "execution_count": 163,
   "metadata": {},
   "outputs": [
    {
     "name": "stdout",
     "output_type": "stream",
     "text": [
      "Top positive:\n",
      "11.021215 univ     prefix-1:@\n",
      "10.210476 hi       word:dosto\n",
      "8.765632 univ     suffix-2:ww\n",
      "8.382627 bn       word:expectation\n",
      "8.228962 univ     prefix-1:#\n",
      "8.054135 ne       word:congress\n",
      "7.943071 ne+en_suffix word:facebooking\n",
      "7.171768 acro     word:asi\n",
      "7.076435 acro     suffix-2:gl\n",
      "7.063050 bn       word:foring\n",
      "7.018853 mixed    word:chapless\n",
      "6.995864 ne       word:presidency\n",
      "6.936381 acro     word:etce\n",
      "6.925031 univ     prefix-2:oo\n",
      "6.822387 en       word:so\n",
      "6.498872 univ     prefix-1:.\n",
      "6.493849 ne       word:yd\n",
      "6.222588 bn       word:er\n",
      "5.891253 ne       word:facebook\n",
      "5.832261 ne       word:chaitro\n",
      "5.811712 en       suffix-2:ck\n",
      "5.774555 en       word:no\n",
      "5.704226 hi       word:bhag\n",
      "5.697798 en       suffix-3:ear\n",
      "5.606215 hi       word:chutiyapa\n",
      "5.579611 en       word:she\n",
      "5.571446 en       suffix-2:ic\n",
      "5.556683 acro     word:dslr\n",
      "5.525105 en       word:rathe\n",
      "5.511917 en       suffix-3:tie\n",
      "\n",
      "Top negative:\n",
      "-1.840711 bn       prefix-1:w\n",
      "-1.853365 en       word:fest\n",
      "-1.854499 univ     prefix-1:B\n",
      "-1.863898 bn       prefix-3:dis\n",
      "-1.933616 en       prefix-2:Ch\n",
      "-2.014342 bn       suffix-3:oon\n",
      "-2.046711 en       prefix-3:mas\n",
      "-2.093481 en       prefix-3:poi\n",
      "-2.105022 bn       prefix-3:rah\n",
      "-2.114488 bn       prefix-3:das\n",
      "-2.128707 bn       suffix-2:ss\n",
      "-2.175192 bn       suffix-2:ve\n",
      "-2.200411 bn       prefix-1:c\n",
      "-2.214756 en       suffix-4:tech\n",
      "-2.235298 bn       suffix-2:ue\n",
      "-2.235834 bn       suffix-3:tra\n",
      "-2.280513 en       word:s\n",
      "-2.321520 bn       prefix-3:att\n",
      "-2.350285 bn       suffix-2:pe\n",
      "-2.376302 bn       suffix-1:x\n",
      "-2.386903 en       prefix-2:La\n",
      "-2.539914 en       suffix-2:ye\n",
      "-2.777589 en       prefix-2:ch\n",
      "-3.032079 univ     capitals_inside\n",
      "-3.131724 univ     suffix-1:U\n",
      "-3.152266 bn       prefix-2:JU\n",
      "-3.165005 bn       suffix-2:oo\n",
      "-3.719318 bn       prefix-2:au\n",
      "-4.015525 en       prefix-2:bh\n",
      "-5.516645 hi       suffix-2:ba\n"
     ]
    }
   ],
   "source": [
    "def print_state_features(state_features):\n",
    "    for (attr, label), weight in state_features:\n",
    "        print(\"%0.6f %-8s %s\" % (weight, label, attr))\n",
    "\n",
    "print(\"Top positive:\")\n",
    "print_state_features(Counter(model.state_features_).most_common(30))\n",
    "\n",
    "print(\"\\nTop negative:\")\n",
    "print_state_features(Counter(model.state_features_).most_common()[-30:])"
   ]
  }
 ],
 "metadata": {
  "kernelspec": {
   "display_name": "Python 3",
   "language": "python",
   "name": "python3"
  },
  "language_info": {
   "codemirror_mode": {
    "name": "ipython",
    "version": 3
   },
   "file_extension": ".py",
   "mimetype": "text/x-python",
   "name": "python",
   "nbconvert_exporter": "python",
   "pygments_lexer": "ipython3",
   "version": "3.7.1"
  }
 },
 "nbformat": 4,
 "nbformat_minor": 2
}
