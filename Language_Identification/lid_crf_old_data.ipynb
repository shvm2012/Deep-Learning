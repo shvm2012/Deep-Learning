{
 "cells": [
  {
   "cell_type": "code",
   "execution_count": 50,
   "metadata": {},
   "outputs": [
    {
     "data": {
      "text/html": [
       "<style>.container { width:100% !important; }</style>"
      ],
      "text/plain": [
       "<IPython.core.display.HTML object>"
      ]
     },
     "metadata": {},
     "output_type": "display_data"
    }
   ],
   "source": [
    "from IPython.core.display import display, HTML\n",
    "display(HTML(\"<style>.container { width:100% !important; }</style>\"))\n",
    "\n",
    "import warnings\n",
    "warnings.filterwarnings(\"ignore\")\n",
    "\n",
    "import numpy as np, pandas as pd\n",
    "import matplotlib.pyplot as plt\n",
    "import nltk\n",
    "from nltk.tag.util import untag\n",
    "from sklearn_crfsuite import CRF\n",
    "from sklearn_crfsuite import metrics\n",
    "from sklearn.model_selection import KFold\n",
    "import numpy as np, pandas as pd"
   ]
  },
  {
   "cell_type": "code",
   "execution_count": 51,
   "metadata": {},
   "outputs": [],
   "source": [
    "def load_data(files):\n",
    "    data, sent = [], []\n",
    "    for file in files:\n",
    "        with open(file, 'r', encoding=\"utf-8\") as rf:\n",
    "            for line in rf:\n",
    "                if line.strip() != '':\n",
    "                    # Note: the shared corpus is already tokenized\n",
    "                    sent.append(line.strip().split('\\t'))\n",
    "                else:\n",
    "                    if len(sent) > 0:\n",
    "                        data.append(sent)\n",
    "                        sent = []\n",
    "    return data\n",
    "\n",
    "# sentences = load_data([\"data/BN_EN_TRAIN_2015.txt\"])\n",
    "sentences = load_data(['data/FB_BN_EN_FN.txt', 'data/TWT_BN_EN_FN.txt',\"data/BN_EN_TRAIN_2015.txt\"])\n",
    "# sentences = load_data(['data/FB_BN_EN_FN.txt', 'data/TWT_BN_EN_FN.txt','data/WA_BN_EN_FN.txt',\"data/BN_EN_TRAIN_2015.txt\"])"
   ]
  },
  {
   "cell_type": "markdown",
   "metadata": {},
   "source": [
    "## LID on old 2015 data"
   ]
  },
  {
   "cell_type": "code",
   "execution_count": 52,
   "metadata": {},
   "outputs": [],
   "source": [
    "new_sentences = []\n",
    "for line in sentences:\n",
    "    sent = []\n",
    "    for word_lang_pos in line:\n",
    "        sent.append([word_lang_pos[0],word_lang_pos[1]])\n",
    "    new_sentences.append(sent)"
   ]
  },
  {
   "cell_type": "code",
   "execution_count": 53,
   "metadata": {},
   "outputs": [
    {
     "data": {
      "text/plain": [
       "3157"
      ]
     },
     "execution_count": 53,
     "metadata": {},
     "output_type": "execute_result"
    }
   ],
   "source": [
    "len(new_sentences)"
   ]
  },
  {
   "cell_type": "code",
   "execution_count": 54,
   "metadata": {},
   "outputs": [
    {
     "data": {
      "text/plain": [
       "3157"
      ]
     },
     "execution_count": 54,
     "metadata": {},
     "output_type": "execute_result"
    }
   ],
   "source": [
    "len(new_sentences)"
   ]
  },
  {
   "cell_type": "markdown",
   "metadata": {},
   "source": [
    "### for EDA"
   ]
  },
  {
   "cell_type": "code",
   "execution_count": 55,
   "metadata": {},
   "outputs": [
    {
     "data": {
      "text/plain": [
       "[['fake', 'en', 'JJ'],\n",
       " ['holeo', 'bn', 'N_NNP'],\n",
       " ['proposal', 'en', 'N_NN'],\n",
       " ['pay', 'bn', 'V_VM']]"
      ]
     },
     "execution_count": 55,
     "metadata": {},
     "output_type": "execute_result"
    }
   ],
   "source": [
    "sentences[0][:4]"
   ]
  },
  {
   "cell_type": "code",
   "execution_count": 56,
   "metadata": {},
   "outputs": [],
   "source": [
    "sent_word = []\n",
    "sent_lang = []\n",
    "sent_pos = []\n",
    "\n",
    "for line in sentences:\n",
    "    lang = []\n",
    "    word = []\n",
    "    pos = []\n",
    "    for word_lang_pos in line:\n",
    "        word.append((word_lang_pos[0]))\n",
    "        lang.append(word_lang_pos[1])\n",
    "        pos.append(word_lang_pos[2])\n",
    "    sent_word.append(word)\n",
    "    sent_lang.append(lang)\n",
    "    sent_pos.append(pos)"
   ]
  },
  {
   "cell_type": "code",
   "execution_count": 57,
   "metadata": {},
   "outputs": [
    {
     "data": {
      "text/plain": [
       "['bcz',\n",
       " 'gf',\n",
       " 'tao',\n",
       " 'tar',\n",
       " 'kache',\n",
       " '1ta',\n",
       " 'show',\n",
       " 'off',\n",
       " 'er',\n",
       " 'e',\n",
       " 'object',\n",
       " '.']"
      ]
     },
     "execution_count": 57,
     "metadata": {},
     "output_type": "execute_result"
    }
   ],
   "source": [
    "sent_word[-1]"
   ]
  },
  {
   "cell_type": "code",
   "execution_count": 58,
   "metadata": {},
   "outputs": [],
   "source": [
    "import itertools\n",
    "flat_df = pd.DataFrame({\"word\":list(itertools.chain(*sent_word)),\"lang\":list(itertools.chain(*sent_lang)),\n",
    "                        \"pos\":list(itertools.chain(*sent_pos))})"
   ]
  },
  {
   "cell_type": "code",
   "execution_count": 59,
   "metadata": {},
   "outputs": [
    {
     "data": {
      "text/plain": [
       "bn                0.384777\n",
       "en                0.368452\n",
       "univ              0.186979\n",
       "ne                0.028345\n",
       "hi                0.018729\n",
       "acro              0.008582\n",
       "undef             0.002432\n",
       "ne+bn_suffix      0.000867\n",
       "en+bn_suffix      0.000475\n",
       "ne+en_suffix      0.000168\n",
       "acro+en_suffix    0.000084\n",
       "univ..            0.000028\n",
       ":D                0.000028\n",
       "acro+bn_suffix    0.000028\n",
       "mixed             0.000028\n",
       "Name: lang, dtype: float64"
      ]
     },
     "execution_count": 59,
     "metadata": {},
     "output_type": "execute_result"
    }
   ],
   "source": [
    "flat_df.lang.value_counts(normalize = True)"
   ]
  },
  {
   "cell_type": "code",
   "execution_count": 60,
   "metadata": {},
   "outputs": [
    {
     "data": {
      "text/plain": [
       "(35774, 3)"
      ]
     },
     "execution_count": 60,
     "metadata": {},
     "output_type": "execute_result"
    }
   ],
   "source": [
    "flat_df.shape"
   ]
  },
  {
   "cell_type": "code",
   "execution_count": 61,
   "metadata": {},
   "outputs": [],
   "source": [
    "# flat_df.to_csv(\"en-bn_word_distribution.csv\",index=False, columns=flat_df.columns)"
   ]
  },
  {
   "cell_type": "code",
   "execution_count": 62,
   "metadata": {},
   "outputs": [],
   "source": [
    "def pun_bool(word):\n",
    "    sum = False\n",
    "    if \"!\" in word:\n",
    "        sum = True\n",
    "    if \"@\" in word:\n",
    "        sum = True\n",
    "    if \"#\" in word:\n",
    "        sum = True\n",
    "    if \"$\" in word:\n",
    "        sum = True\n",
    "    if \"%\" in word:\n",
    "        sum = True\n",
    "    if \"&\" in word:\n",
    "        sum = True\n",
    "    if \"*\" in word:\n",
    "        sum = True\n",
    "    if \"-\" in word:\n",
    "        sum = True\n",
    "    if \"_\" in word:\n",
    "        sum = True\n",
    "    if \"+\" in word:\n",
    "        sum = True\n",
    "    if \"|\" in word:\n",
    "        sum = True\n",
    "    if \":\" in word:\n",
    "        sum = True\n",
    "    if \";\" in word:\n",
    "        sum = True\n",
    "    if \"<\" in word:\n",
    "        sum = True\n",
    "    if \">\" in word:\n",
    "        sum = True    \n",
    "    if \"?\" in word:\n",
    "        sum = True\n",
    "    if \",\" in word:\n",
    "        sum = True\n",
    "    if \"/\" in word:\n",
    "        sum = True\n",
    "    return sum"
   ]
  },
  {
   "cell_type": "code",
   "execution_count": 63,
   "metadata": {},
   "outputs": [],
   "source": [
    "def feature_extractor(sentence,index):\n",
    "        return {\n",
    "          'word': sentence[index].lower(),\n",
    "#            'is_first': index == 0,\n",
    "#            'is_last': index == len(sentence) - 1,\n",
    "#            'is_capitalized': sentence[index][0].upper() == sentence[index][0],\n",
    "          'is_all_caps': sentence[index].upper() == sentence[index],\n",
    "#          'is_all_lower': sentence[index].lower() == sentence[index],\n",
    "         'prefix-1': sentence[index][0],\n",
    "         'prefix-2': sentence[index][:2],\n",
    "         'prefix-3': sentence[index][:3],\n",
    "         'suffix-1': sentence[index][-1],\n",
    "         'suffix-2': sentence[index][-2:],\n",
    "         'suffix-3': sentence[index][-3:],\n",
    "         'suffix-4': sentence[index][-4:],\n",
    "#           \"is_3_len\" : 1 if len(sentence[index])==3 else 0,\n",
    "          \"is_2_len\" : 1 if len(sentence[index])==2 else 0,\n",
    "          \"prev_word_istitle\":1 if index==1 else 0,\n",
    "#          \"next_word_eos\": 1 if index == len(sentence)-2 else 0,\n",
    "#          'prev_word': '' if index == 0 else sentence[index - 1],\n",
    "#          'prev2_word': '' if index <2 else sentence[index - 2],\n",
    "#          'next_word': '' if index == len(sentence) - 1 else sentence[index + 1],\n",
    "            \"has_pun\" : pun_bool(sentence[index]),\n",
    "#           'is_numeric': sentence[index].isdigit(),\n",
    "           'capitals_inside': sentence[index][1:].lower() != sentence[index][1:],\n",
    "#             \"first_@\": 1 if sentence[index][0]==\"@\" else 0\n",
    "#           \"next_to\":\"\" if index > len(sentence)-2 else sentence[index+1] == \"to\",\n",
    "#          \"last_to\": \"\" if index==0 else sentence[index-1] == \"to\",\n",
    "#           \"next_in\":\"\" if index > len(sentence)-2 else sentence[index+1] == \"in\"         \n",
    "        }"
   ]
  },
  {
   "cell_type": "code",
   "execution_count": 64,
   "metadata": {},
   "outputs": [],
   "source": [
    "def transform_to_dataset(tagged_sentences):\n",
    "    X, y = [], []\n",
    "    for tagged in tagged_sentences:\n",
    "        X.append([feature_extractor(untag(tagged), index) for index in range(len(tagged))])\n",
    "        y.append([tag for _, tag in tagged])\n",
    "    return X, y"
   ]
  },
  {
   "cell_type": "code",
   "execution_count": 65,
   "metadata": {},
   "outputs": [],
   "source": [
    "all_sentences = np.array(new_sentences.copy())"
   ]
  },
  {
   "cell_type": "code",
   "execution_count": 66,
   "metadata": {},
   "outputs": [],
   "source": [
    "from sklearn.metrics import accuracy_score\n",
    "from sklearn.metrics import f1_score\n",
    "import itertools"
   ]
  },
  {
   "cell_type": "code",
   "execution_count": 67,
   "metadata": {},
   "outputs": [
    {
     "name": "stdout",
     "output_type": "stream",
     "text": [
      "average accuracy :  94.01 %\n"
     ]
    }
   ],
   "source": [
    "kfold = KFold(n_splits = 10, shuffle = True, random_state = 7)\n",
    "\n",
    "accuracy = []\n",
    "\n",
    "for train_index, test_index in kfold.split(all_sentences):\n",
    "    \n",
    "    X_train, y_train = transform_to_dataset(all_sentences[train_index])\n",
    "    X_test, y_test = transform_to_dataset(all_sentences[test_index])\n",
    "    \n",
    "    model = CRF(c1 = 1.0, c2 = 0.001, max_iterations = 100)\n",
    "    model.fit(X_train, y_train)\n",
    "    \n",
    "    y_pred = model.predict(X_test)\n",
    "    \n",
    "    accuracy.append(accuracy_score(list(itertools.chain(*y_test)),list(itertools.chain(*y_pred)))) \n",
    "    \n",
    "print(\"average accuracy : \",np.round(np.mean(accuracy)*100,2),\"%\")"
   ]
  },
  {
   "cell_type": "code",
   "execution_count": null,
   "metadata": {},
   "outputs": [],
   "source": []
  },
  {
   "cell_type": "markdown",
   "metadata": {},
   "source": [
    "#### test-train split"
   ]
  },
  {
   "cell_type": "code",
   "execution_count": 68,
   "metadata": {},
   "outputs": [],
   "source": [
    "X,y = transform_to_dataset(all_sentences)"
   ]
  },
  {
   "cell_type": "code",
   "execution_count": 69,
   "metadata": {},
   "outputs": [],
   "source": [
    "from sklearn.model_selection import train_test_split\n",
    "X_train, X_test, y_train, y_test = train_test_split(X,y,test_size = 0.25,random_state = 7)"
   ]
  },
  {
   "cell_type": "code",
   "execution_count": 70,
   "metadata": {},
   "outputs": [],
   "source": [
    "model = CRF(c1 = 1.0, c2 = 0.001, max_iterations = 100)\n",
    "model.fit(X_train, y_train)\n",
    "    \n",
    "y_pred = model.predict(X_test)"
   ]
  },
  {
   "cell_type": "code",
   "execution_count": 71,
   "metadata": {},
   "outputs": [
    {
     "data": {
      "text/plain": [
       "0.9337145524565293"
      ]
     },
     "execution_count": 71,
     "metadata": {},
     "output_type": "execute_result"
    }
   ],
   "source": [
    "metrics.flat_accuracy_score(y_test,y_pred)"
   ]
  },
  {
   "cell_type": "code",
   "execution_count": 72,
   "metadata": {},
   "outputs": [
    {
     "data": {
      "text/plain": [
       "0.9337145524565293"
      ]
     },
     "execution_count": 72,
     "metadata": {},
     "output_type": "execute_result"
    }
   ],
   "source": [
    "metrics.flat_f1_score(y_test,y_pred,average = \"micro\")"
   ]
  },
  {
   "cell_type": "code",
   "execution_count": 73,
   "metadata": {},
   "outputs": [
    {
     "data": {
      "text/plain": [
       "0.5521909705621793"
      ]
     },
     "execution_count": 73,
     "metadata": {},
     "output_type": "execute_result"
    }
   ],
   "source": [
    "metrics.flat_f1_score(y_test,y_pred,average = \"macro\")"
   ]
  },
  {
   "cell_type": "code",
   "execution_count": 74,
   "metadata": {},
   "outputs": [
    {
     "data": {
      "text/plain": [
       "'              precision    recall  f1-score   support\\n\\n        acro       0.79      0.72      0.75        68\\n          bn       0.92      0.96      0.94      3238\\n          en       0.94      0.95      0.95      3115\\nen+bn_suffix       0.00      0.00      0.00         3\\n          hi       0.81      0.54      0.65       191\\n          ne       0.68      0.49      0.57       257\\nne+bn_suffix       1.00      0.23      0.38        13\\nne+en_suffix       0.00      0.00      0.00         3\\n       undef       0.67      0.20      0.31        10\\n        univ       0.99      0.98      0.98      1671\\n\\n    accuracy                           0.93      8569\\n   macro avg       0.68      0.51      0.55      8569\\nweighted avg       0.93      0.93      0.93      8569\\n'"
      ]
     },
     "execution_count": 74,
     "metadata": {},
     "output_type": "execute_result"
    }
   ],
   "source": [
    "metrics.flat_classification_report(y_test, y_pred)"
   ]
  },
  {
   "cell_type": "code",
   "execution_count": 75,
   "metadata": {},
   "outputs": [],
   "source": [
    "import matplotlib.pyplot as plt\n",
    "import scikitplot as skplt"
   ]
  },
  {
   "cell_type": "code",
   "execution_count": 76,
   "metadata": {},
   "outputs": [
    {
     "data": {
      "text/plain": [
       "<matplotlib.axes._subplots.AxesSubplot at 0x849946d3c8>"
      ]
     },
     "execution_count": 76,
     "metadata": {},
     "output_type": "execute_result"
    },
    {
     "data": {
      "text/plain": [
       "<Figure size 720x720 with 0 Axes>"
      ]
     },
     "metadata": {},
     "output_type": "display_data"
    },
    {
     "data": {
      "image/png": "[encoded data removed]",
      "text/plain": [
       "<Figure size 432x288 with 2 Axes>"
      ]
     },
     "metadata": {
      "needs_background": "light"
     },
     "output_type": "display_data"
    }
   ],
   "source": [
    "plt.figure(figsize=(10,10))\n",
    "skplt.metrics.plot_confusion_matrix(list(itertools.chain(*y_test)),list(itertools.chain(*y_pred)),x_tick_rotation=90)"
   ]
  },
  {
   "cell_type": "markdown",
   "metadata": {},
   "source": [
    "              precision    recall  f1-score   support\n",
    "\n",
    "        acro       0.79      0.72      0.75        68\n",
    "          bn       0.92      0.96      0.94      3238\n",
    "          en       0.94      0.95      0.95      3115\n",
    "en+bn_suffix       0.00      0.00      0.00         3\n",
    "          hi       0.81      0.54      0.65       191\n",
    "          ne       0.68      0.49      0.57       257\n",
    "ne+bn_suffix       1.00      0.23      0.38        13\n",
    "ne+en_suffix       0.00      0.00      0.00         3\n",
    "       undef       0.67      0.20      0.31        10\n",
    "        univ       0.99      0.98      0.98      1671\n",
    "\n",
    "    accuracy                           0.93      8569\n",
    "   macro avg       0.68      0.51      0.55      8569\n",
    "weighted avg       0.93      0.93      0.93      8569"
   ]
  },
  {
   "cell_type": "markdown",
   "metadata": {},
   "source": [
    "### model fitiing on whole dataset (feature weights analysis)"
   ]
  },
  {
   "cell_type": "code",
   "execution_count": 77,
   "metadata": {},
   "outputs": [],
   "source": [
    "X,y = transform_to_dataset(all_sentences)"
   ]
  },
  {
   "cell_type": "code",
   "execution_count": 78,
   "metadata": {},
   "outputs": [
    {
     "data": {
      "text/plain": [
       "3157"
      ]
     },
     "execution_count": 78,
     "metadata": {},
     "output_type": "execute_result"
    }
   ],
   "source": [
    "len(X)\n",
    "len(y)"
   ]
  },
  {
   "cell_type": "code",
   "execution_count": 79,
   "metadata": {},
   "outputs": [
    {
     "data": {
      "text/plain": [
       "CRF(algorithm=None, all_possible_states=None, all_possible_transitions=None,\n",
       "    averaging=None, c=None, c1=1.0, c2=0.001, calibration_candidates=None,\n",
       "    calibration_eta=None, calibration_max_trials=None, calibration_rate=None,\n",
       "    calibration_samples=None, delta=None, epsilon=None, error_sensitive=None,\n",
       "    gamma=None, keep_tempfiles=None, linesearch=None, max_iterations=100,\n",
       "    max_linesearch=None, min_freq=None, model_filename=None, num_memories=None,\n",
       "    pa_type=None, period=None, trainer_cls=None, variance=None, verbose=False)"
      ]
     },
     "execution_count": 79,
     "metadata": {},
     "output_type": "execute_result"
    }
   ],
   "source": [
    "model = CRF(c1 = 1.0, c2 = 0.001, max_iterations = 100)\n",
    "model.fit(X, y)"
   ]
  },
  {
   "cell_type": "code",
   "execution_count": 80,
   "metadata": {},
   "outputs": [
    {
     "name": "stdout",
     "output_type": "stream",
     "text": [
      "Top likely transitions:\n",
      "undef  -> undef   5.559163\n",
      "hi     -> hi      5.264731\n",
      "en     -> en      3.705426\n",
      "ne     -> ne      3.640912\n",
      "bn     -> bn      3.543661\n",
      "en     -> ne      2.876932\n",
      "bn     -> ne      2.529209\n",
      "en     -> bn      2.503831\n",
      "en     -> acro    2.280815\n",
      "bn     -> en      2.155849\n",
      "bn     -> en+bn_suffix 2.096116\n",
      "en     -> univ    1.916768\n",
      "en     -> hi      1.795837\n",
      "bn     -> univ    1.791404\n",
      "bn     -> acro    1.763037\n",
      "en+bn_suffix -> acro    1.674388\n",
      "hi     -> ne      1.672145\n",
      "en     -> undef   1.548265\n",
      "ne     -> bn      1.504479\n",
      "acro   -> acro    1.417935\n",
      "\n",
      "Top unlikely transitions:\n",
      "hi     -> acro    1.097018\n",
      "ne     -> hi      1.078258\n",
      "bn     -> ne+bn_suffix 1.021963\n",
      "acro   -> ne      0.933175\n",
      "univ   -> undef   0.928165\n",
      "ne+bn_suffix -> bn      0.868343\n",
      "univ   -> hi      0.864531\n",
      "ne     -> univ    0.737516\n",
      "univ   -> univ    0.709203\n",
      "acro   -> univ    0.544035\n",
      "univ   -> acro    0.536245\n",
      "undef  -> en      0.407411\n",
      "bn     -> undef   0.363321\n",
      "ne     -> acro    0.297883\n",
      "bn     -> hi      0.135945\n",
      "mixed  -> univ    -0.072409\n",
      "en+bn_suffix -> bn      -0.081600\n",
      "univ   -> ne+bn_suffix -0.314783\n",
      "en+bn_suffix -> univ    -0.639495\n",
      "ne+bn_suffix -> univ    -1.109300\n"
     ]
    }
   ],
   "source": [
    "from collections import Counter\n",
    "\n",
    "def print_transitions(trans_features):\n",
    "    for (label_from, label_to), weight in trans_features:\n",
    "        print(\"%-6s -> %-7s %0.6f\" % (label_from, label_to, weight))\n",
    "\n",
    "print(\"Top likely transitions:\")\n",
    "print_transitions(Counter(model.transition_features_).most_common(20))\n",
    "\n",
    "print(\"\\nTop unlikely transitions:\")\n",
    "print_transitions(Counter(model.transition_features_).most_common()[-20:])"
   ]
  },
  {
   "cell_type": "code",
   "execution_count": 81,
   "metadata": {},
   "outputs": [
    {
     "name": "stdout",
     "output_type": "stream",
     "text": [
      "Top positive:\n",
      "9.290270 univ     prefix-1:@\n",
      "6.839057 univ     prefix-1:.\n",
      "6.791588 acro     word:etce\n",
      "6.685525 univ     suffix-2:ww\n",
      "6.421132 univ     prefix-1:#\n",
      "6.122117 en       word:no\n",
      "5.565204 en       word:so\n",
      "5.475699 en       suffix-3:ion\n",
      "5.415016 bn       word:expectation\n",
      "5.411114 en+bn_suffix prefix-3:mob\n",
      "5.395841 en       word:the\n",
      "5.386834 acro     word:asi\n",
      "5.310798 bn       word:er\n",
      "5.274639 ne       suffix-2:SR\n",
      "5.165582 ne       word:yd\n",
      "5.146617 acro     suffix-2:gl\n",
      "4.930738 en       suffix-3:ear\n",
      "4.841269 en       suffix-2:ck\n",
      "4.809448 en       suffix-2:ic\n",
      "4.809433 acro     word:dslr\n",
      "4.776924 acro     word:fb\n",
      "4.708827 acro     prefix-3:FET\n",
      "4.690297 univ     word:wow\n",
      "4.689461 acro     suffix-3:bps\n",
      "4.599920 en       word:u\n",
      "4.458222 en       word:she\n",
      "4.456821 ne       suffix-4:rjee\n",
      "4.414854 en       prefix-3:adm\n",
      "4.397067 univ     is_all_caps\n",
      "4.393188 univ     prefix-1:'\n",
      "\n",
      "Top negative:\n",
      "-1.455749 bn       prefix-1:w\n",
      "-1.456525 bn       suffix-4:star\n",
      "-1.473691 en       suffix-3:ire\n",
      "-1.474236 en       prefix-1:k\n",
      "-1.474484 bn       suffix-2:gi\n",
      "-1.507439 en       suffix-2:is\n",
      "-1.570473 en       prefix-1:J\n",
      "-1.586528 bn       suffix-2:ve\n",
      "-1.615381 univ     suffix-1:U\n",
      "-1.615507 bn       suffix-2:ue\n",
      "-1.632342 en       prefix-2:Ch\n",
      "-1.644370 en       suffix-2:at\n",
      "-1.706080 en       suffix-2:ad\n",
      "-1.832857 en       prefix-3:mas\n",
      "-1.912636 en       prefix-2:La\n",
      "-1.928640 bn       prefix-3:att\n",
      "-2.012794 en       word:s\n",
      "-2.081956 bn       suffix-1:x\n",
      "-2.085477 bn       suffix-2:pe\n",
      "-2.203077 en       suffix-2:ye\n",
      "-2.386548 bn       suffix-3:tra\n",
      "-2.397882 en       prefix-2:ch\n",
      "-2.427088 bn       prefix-1:c\n",
      "-2.553595 en       suffix-4:tech\n",
      "-2.727062 bn       prefix-2:JU\n",
      "-2.768739 bn       suffix-2:oo\n",
      "-2.901603 univ     capitals_inside\n",
      "-3.204020 en       prefix-2:bh\n",
      "-3.303789 bn       prefix-2:au\n",
      "-4.649307 hi       suffix-2:ba\n"
     ]
    }
   ],
   "source": [
    "def print_state_features(state_features):\n",
    "    for (attr, label), weight in state_features:\n",
    "        print(\"%0.6f %-8s %s\" % (weight, label, attr))\n",
    "\n",
    "print(\"Top positive:\")\n",
    "print_state_features(Counter(model.state_features_).most_common(30))\n",
    "\n",
    "print(\"\\nTop negative:\")\n",
    "print_state_features(Counter(model.state_features_).most_common()[-30:])"
   ]
  },
  {
   "cell_type": "code",
   "execution_count": null,
   "metadata": {},
   "outputs": [],
   "source": []
  }
 ],
 "metadata": {
  "kernelspec": {
   "display_name": "Python 3",
   "language": "python",
   "name": "python3"
  },
  "language_info": {
   "codemirror_mode": {
    "name": "ipython",
    "version": 3
   },
   "file_extension": ".py",
   "mimetype": "text/x-python",
   "name": "python",
   "nbconvert_exporter": "python",
   "pygments_lexer": "ipython3",
   "version": "3.7.1"
  }
 },
 "nbformat": 4,
 "nbformat_minor": 2
}
