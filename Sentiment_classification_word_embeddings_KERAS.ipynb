{
  "nbformat": 4,
  "nbformat_minor": 0,
  "metadata": {
    "colab": {
      "name": "Sentiment_classification_word_embeddings_KERAS.ipynb",
      "provenance": [],
      "collapsed_sections": [],
      "include_colab_link": true
    },
    "kernelspec": {
      "name": "python3",
      "display_name": "Python 3"
    },
    "accelerator": "GPU"
  },
  "cells": [
    {
      "cell_type": "markdown",
      "metadata": {
        "id": "view-in-github",
        "colab_type": "text"
      },
      "source": [
        "<a href=\"https://colab.research.google.com/github/shvm2012/Natural-Language-Processing-essentials/blob/master/Sentiment_classification_word_embeddings_KERAS.ipynb\" target=\"_parent\"><img src=\"https://colab.research.google.com/assets/colab-badge.svg\" alt=\"Open In Colab\"/></a>"
      ]
    },
    {
      "cell_type": "markdown",
      "metadata": {
        "id": "sE4Cl2wTVAOS",
        "colab_type": "text"
      },
      "source": [
        "## Imdb Sentiment Analysis "
      ]
    },
    {
      "cell_type": "markdown",
      "metadata": {
        "id": "7OtBvePXRVps",
        "colab_type": "text"
      },
      "source": [
        "\n",
        "###  IMDB sentiment classification using deep learning and word embeddings in KERAS. Aim is to maximize F1 score on the test data\n",
        "#### useful imports"
      ]
    },
    {
      "cell_type": "code",
      "metadata": {
        "id": "HM4ebKxfQ-EZ",
        "colab_type": "code",
        "outputId": "2d66594f-b704-4f1c-a800-cdbeb9fe57eb",
        "colab": {
          "base_uri": "https://localhost:8080/",
          "height": 34
        }
      },
      "source": [
        "import numpy as np, pandas as pd\n",
        "import matplotlib.pyplot as plt\n",
        "\n",
        "from tqdm import tqdm_notebook\n",
        "import os\n",
        "import re\n",
        "import nltk\n",
        "from nltk.tokenize import RegexpTokenizer\n",
        "from nltk.corpus import stopwords\n",
        "from nltk import word_tokenize\n",
        "\n",
        "\n",
        "\n",
        "from sklearn.metrics import accuracy_score, f1_score, precision_score, recall_score\n",
        "\n",
        "from keras.preprocessing.text import Tokenizer\n",
        "from keras.preprocessing.sequence import pad_sequences\n",
        "from keras.models import Sequential\n",
        "from keras import layers\n",
        "from keras.layers import Dense, GRU, Flatten, LSTM\n",
        "from keras.layers.embeddings import Embedding\n",
        "from keras.preprocessing import sequence\n",
        "from keras import optimizers"
      ],
      "execution_count": 0,
      "outputs": [
        {
          "output_type": "stream",
          "text": [
            "Using TensorFlow backend.\n"
          ],
          "name": "stderr"
        }
      ]
    },
    {
      "cell_type": "code",
      "metadata": {
        "id": "YDLeOvEAUYhG",
        "colab_type": "code",
        "outputId": "3e70dc61-aac6-4000-c10c-307c66794146",
        "colab": {
          "base_uri": "https://localhost:8080/",
          "height": 102
        }
      },
      "source": [
        "nltk.download('punkt')\n",
        "nltk.download(\"stopwords\")"
      ],
      "execution_count": 0,
      "outputs": [
        {
          "output_type": "stream",
          "text": [
            "[nltk_data] Downloading package punkt to /root/nltk_data...\n",
            "[nltk_data]   Unzipping tokenizers/punkt.zip.\n",
            "[nltk_data] Downloading package stopwords to /root/nltk_data...\n",
            "[nltk_data]   Unzipping corpora/stopwords.zip.\n"
          ],
          "name": "stdout"
        },
        {
          "output_type": "execute_result",
          "data": {
            "text/plain": [
              "True"
            ]
          },
          "metadata": {
            "tags": []
          },
          "execution_count": 2
        }
      ]
    },
    {
      "cell_type": "code",
      "metadata": {
        "id": "peieOA-3R76S",
        "colab_type": "code",
        "outputId": "68e6baf1-e5e7-44eb-db0c-3d952339c972",
        "colab": {
          "base_uri": "https://localhost:8080/",
          "height": 207
        }
      },
      "source": [
        "!pip install pymagnitude   # library to manipulate word embedding vectors\n",
        "from pymagnitude import *"
      ],
      "execution_count": 0,
      "outputs": [
        {
          "output_type": "stream",
          "text": [
            "Collecting pymagnitude\n",
            "\u001b[?25l  Downloading https://files.pythonhosted.org/packages/0a/a3/b9a34d22ed8c0ed59b00ff55092129641cdfa09d82f9abdc5088051a5b0c/pymagnitude-0.1.120.tar.gz (5.4MB)\n",
            "\u001b[K     |████████████████████████████████| 5.4MB 46.3MB/s \n",
            "\u001b[?25hBuilding wheels for collected packages: pymagnitude\n",
            "  Building wheel for pymagnitude (setup.py) ... \u001b[?25l\u001b[?25hdone\n",
            "  Created wheel for pymagnitude: filename=pymagnitude-0.1.120-cp36-cp36m-linux_x86_64.whl size=135918205 sha256=3931843822eb59ad7e16dae3bfbb4c6180d73b31ae657c3c2392dd84e831c46d\n",
            "  Stored in directory: /root/.cache/pip/wheels/a2/c7/98/cb48b9db35f8d1a7827b764dc36c5515179dc116448a47c8a1\n",
            "Successfully built pymagnitude\n",
            "Installing collected packages: pymagnitude\n",
            "Successfully installed pymagnitude-0.1.120\n"
          ],
          "name": "stdout"
        }
      ]
    },
    {
      "cell_type": "code",
      "metadata": {
        "id": "Hk_UDOo3Ubqb",
        "colab_type": "code",
        "outputId": "0b4d8490-2955-474e-cf8c-2a3fbf070d7a",
        "colab": {
          "base_uri": "https://localhost:8080/",
          "height": 204
        }
      },
      "source": [
        "# Downloading glove (100 dimensional word embedding vectors)\n",
        "!wget http://magnitude.plasticity.ai/glove/light/glove.6B.100d.magnitude"
      ],
      "execution_count": 0,
      "outputs": [
        {
          "output_type": "stream",
          "text": [
            "--2019-09-01 02:44:15--  http://magnitude.plasticity.ai/glove/light/glove.6B.100d.magnitude\n",
            "Resolving magnitude.plasticity.ai (magnitude.plasticity.ai)... 52.216.139.82\n",
            "Connecting to magnitude.plasticity.ai (magnitude.plasticity.ai)|52.216.139.82|:80... connected.\n",
            "HTTP request sent, awaiting response... 200 OK\n",
            "Length: 193871872 (185M) [binary/octet-stream]\n",
            "Saving to: ‘glove.6B.100d.magnitude’\n",
            "\n",
            "glove.6B.100d.magni 100%[===================>] 184.89M  20.1MB/s    in 10s     \n",
            "\n",
            "2019-09-01 02:44:26 (18.1 MB/s) - ‘glove.6B.100d.magnitude’ saved [193871872/193871872]\n",
            "\n"
          ],
          "name": "stdout"
        }
      ]
    },
    {
      "cell_type": "markdown",
      "metadata": {
        "id": "BcHbHRnPS2A3",
        "colab_type": "text"
      },
      "source": [
        "#### downloading and extracting required dataset"
      ]
    },
    {
      "cell_type": "code",
      "metadata": {
        "id": "s14BBMhARtxw",
        "colab_type": "code",
        "outputId": "a8f19317-e4b8-482e-e110-24bb5d951953",
        "colab": {
          "base_uri": "https://localhost:8080/",
          "height": 204
        }
      },
      "source": [
        "![ ! -d data ] && mkdir data/\n",
        "![ -f data/aclImdb_v1.tar.gz ] && echo \"Skip Download\"\n",
        "![ ! -f data/aclImdb_v1.tar.gz ] && wget -N https://ai.stanford.edu/~amaas/data/sentiment/aclImdb_v1.tar.gz -P data/"
      ],
      "execution_count": 0,
      "outputs": [
        {
          "output_type": "stream",
          "text": [
            "--2019-09-01 02:44:32--  https://ai.stanford.edu/~amaas/data/sentiment/aclImdb_v1.tar.gz\n",
            "Resolving ai.stanford.edu (ai.stanford.edu)... 171.64.68.10\n",
            "Connecting to ai.stanford.edu (ai.stanford.edu)|171.64.68.10|:443... connected.\n",
            "HTTP request sent, awaiting response... 200 OK\n",
            "Length: 84125825 (80M) [application/x-gzip]\n",
            "Saving to: ‘data/aclImdb_v1.tar.gz’\n",
            "\n",
            "aclImdb_v1.tar.gz   100%[===================>]  80.23M  21.4MB/s    in 5.2s    \n",
            "\n",
            "2019-09-01 02:44:38 (15.5 MB/s) - ‘data/aclImdb_v1.tar.gz’ saved [84125825/84125825]\n",
            "\n"
          ],
          "name": "stdout"
        }
      ]
    },
    {
      "cell_type": "code",
      "metadata": {
        "id": "NnwZiqbWTUEQ",
        "colab_type": "code",
        "colab": {}
      },
      "source": [
        "![ -d data/aclImdb/ ] && echo \"Data already extracted\"\n",
        "![ ! -d data/aclImdb/ ] && tar -xzf data/aclImdb_v1.tar.gz -C data/"
      ],
      "execution_count": 0,
      "outputs": []
    },
    {
      "cell_type": "code",
      "metadata": {
        "id": "rB7rxB6sTXBS",
        "colab_type": "code",
        "colab": {}
      },
      "source": [
        "data_folder = 'data/aclImdb/'   "
      ],
      "execution_count": 0,
      "outputs": []
    },
    {
      "cell_type": "markdown",
      "metadata": {
        "id": "y8mhLaF2TxPu",
        "colab_type": "text"
      },
      "source": [
        "#### loading data file names as list of strings"
      ]
    },
    {
      "cell_type": "code",
      "metadata": {
        "id": "eHJXkyCzThP2",
        "colab_type": "code",
        "colab": {}
      },
      "source": [
        "rp = os.path.join(data_folder, 'train/pos')\n",
        "train_positive = [os.path.join(rp, f) for f in os.listdir(rp)]\n",
        "\n",
        "rp = os.path.join(data_folder, 'train/neg')\n",
        "train_negative = [os.path.join(rp, f) for f in os.listdir(rp)]\n",
        "\n",
        "rp = os.path.join(data_folder, 'test/pos')\n",
        "test_positive = [os.path.join(rp, f) for f in os.listdir(rp)]\n",
        "\n",
        "rp = os.path.join(data_folder, 'test/neg')\n",
        "test_negative = [os.path.join(rp, f) for f in os.listdir(rp)]"
      ],
      "execution_count": 0,
      "outputs": []
    },
    {
      "cell_type": "code",
      "metadata": {
        "id": "TpoH-3Cuph-S",
        "colab_type": "code",
        "outputId": "019a14b3-a000-4c84-f983-21a9d4156d26",
        "colab": {
          "base_uri": "https://localhost:8080/",
          "height": 34
        }
      },
      "source": [
        "len(train_positive)"
      ],
      "execution_count": 0,
      "outputs": [
        {
          "output_type": "execute_result",
          "data": {
            "text/plain": [
              "12500"
            ]
          },
          "metadata": {
            "tags": []
          },
          "execution_count": 9
        }
      ]
    },
    {
      "cell_type": "markdown",
      "metadata": {
        "id": "AMCt8WynU4Xr",
        "colab_type": "text"
      },
      "source": [
        "## Data cleaning and preprocessing"
      ]
    },
    {
      "cell_type": "code",
      "metadata": {
        "id": "xHlBPP0iVXsy",
        "colab_type": "code",
        "colab": {}
      },
      "source": [
        "remove_pun = RegexpTokenizer(r'\\w+') # punctuation removal\n",
        "stop_words = set(stopwords.words('english')) # stop-word removal"
      ],
      "execution_count": 0,
      "outputs": []
    },
    {
      "cell_type": "code",
      "metadata": {
        "id": "0sv-jWPeU3kP",
        "colab_type": "code",
        "colab": {}
      },
      "source": [
        "def clean_sentence(sent):\n",
        "  \n",
        "  ''' function to clean a given sentence/review by removing punctuation and stopwords and returns cleaned sentence '''\n",
        "  \n",
        "  good_words =[]\n",
        "  \n",
        "  for w in remove_pun.tokenize(sent.lower()):\n",
        "    if w not in stop_words: \n",
        "      good_words.append(w)\n",
        "            \n",
        "  new_sentence = ' '.join(word for word in good_words)\n",
        "  return new_sentence\n"
      ],
      "execution_count": 0,
      "outputs": []
    },
    {
      "cell_type": "code",
      "metadata": {
        "id": "1bW0eqU6T6rR",
        "colab_type": "code",
        "colab": {}
      },
      "source": [
        "# sent = \"My name is shivam yadav, ** I like to solve rubik's  ## # cube ,,, ; ; Heloooooo World : :) !!\" ## testing above function\n",
        "# clean_sentence(sent)"
      ],
      "execution_count": 0,
      "outputs": []
    },
    {
      "cell_type": "code",
      "metadata": {
        "id": "rVDZ4LZWWteX",
        "colab_type": "code",
        "colab": {}
      },
      "source": [
        "n_train = 12500    # all train sentence to be loaded for training\n",
        "n_test = 12500      # all test sentence to be loaded for testing\n",
        "re_html_cleaner = re.compile(r\"<.*?>\") "
      ],
      "execution_count": 0,
      "outputs": []
    },
    {
      "cell_type": "code",
      "metadata": {
        "id": "ekArKNVQWIBq",
        "colab_type": "code",
        "outputId": "3c356b7d-45da-44f5-abfa-d0c2ab7d8bba",
        "colab": {
          "base_uri": "https://localhost:8080/",
          "height": 51
        }
      },
      "source": [
        "train_data = []\n",
        "y_train = []\n",
        "\n",
        "for _fname in tqdm_notebook(train_positive[:n_train], desc=\"Loading +ve training samples: \"):\n",
        "    with open(_fname,encoding=\"utf8\") as f:\n",
        "        text = f.read().strip()\n",
        "        text = re_html_cleaner.sub(\" \", text)\n",
        "        wseq = clean_sentence(text)\n",
        "        train_data.append(wseq)\n",
        "        y_train.append(1)\n",
        "        \n",
        "for _fname in tqdm_notebook(train_negative[:n_train], desc=\"Loading -ve training samples: \"):\n",
        "    with open(_fname,encoding=\"utf8\") as f:\n",
        "        text = f.read().strip()\n",
        "        text = re_html_cleaner.sub(\" \", text)\n",
        "        wseq = clean_sentence(text)\n",
        "        train_data.append(wseq)\n",
        "        y_train.append(0)"
      ],
      "execution_count": 0,
      "outputs": [
        {
          "output_type": "display_data",
          "data": {
            "application/vnd.jupyter.widget-view+json": {
              "model_id": "240b223def264e9aaeb772b57f7b52cc",
              "version_minor": 0,
              "version_major": 2
            },
            "text/plain": [
              "HBox(children=(IntProgress(value=0, description='Loading +ve training samples: ', max=12500, style=ProgressSty…"
            ]
          },
          "metadata": {
            "tags": []
          }
        },
        {
          "output_type": "stream",
          "text": [
            "\n"
          ],
          "name": "stdout"
        },
        {
          "output_type": "display_data",
          "data": {
            "application/vnd.jupyter.widget-view+json": {
              "model_id": "e2bcf8562ab74eecb77d3ee6ede22300",
              "version_minor": 0,
              "version_major": 2
            },
            "text/plain": [
              "HBox(children=(IntProgress(value=0, description='Loading -ve training samples: ', max=12500, style=ProgressSty…"
            ]
          },
          "metadata": {
            "tags": []
          }
        },
        {
          "output_type": "stream",
          "text": [
            "\n"
          ],
          "name": "stdout"
        }
      ]
    },
    {
      "cell_type": "code",
      "metadata": {
        "id": "kEdwfgH8q3hH",
        "colab_type": "code",
        "outputId": "72b75e3e-a427-4ceb-d7a2-39ef9004517e",
        "colab": {
          "base_uri": "https://localhost:8080/",
          "height": 34
        }
      },
      "source": [
        "len(train_data)"
      ],
      "execution_count": 0,
      "outputs": [
        {
          "output_type": "execute_result",
          "data": {
            "text/plain": [
              "25000"
            ]
          },
          "metadata": {
            "tags": []
          },
          "execution_count": 15
        }
      ]
    },
    {
      "cell_type": "code",
      "metadata": {
        "id": "fbyZBz6YWq8Z",
        "colab_type": "code",
        "outputId": "db6f7963-a5ee-4fce-c31b-20034c619c41",
        "colab": {
          "base_uri": "https://localhost:8080/",
          "height": 88
        }
      },
      "source": [
        "## first review in training sample (cleaned sample) and its corresponding sentiment (1 : positive, 0: negative)\n",
        "print(train_data[0])\n",
        "print(\"\")\n",
        "print(\"sentiment: \",y_train[0])"
      ],
      "execution_count": 0,
      "outputs": [
        {
          "output_type": "stream",
          "text": [
            "give four reasons see movie 1 four best filmmakers contemporary mexican cinema 2 four good stories related big scheme 3 surprisingly good cast 4 bitter reflexion biggest trouble country many others possible spoilers alejandro gamboa opens movie good story comedic mood authority practicing extortion regular people still expecting appreciated efforts antonio serrano gets dramatic second piece story heir italian neorealism peter wolf like anecdote third story one seems independent series even context carlos carrera tells us story man wrong place wrong moment recent lynching tlahuac tradition awful matter state mexico story updated end fernando sariñana returns dark humor grand finale puts together characters past sequences one better comedy pieces ever filmed reprising center scene one previous films todo el poder sariñana gives final lesson theme way give us scene steals movie anna ciochetti making brief striptease movie ended get bittersweet feeling looked good movie maybe enjoyed painful subject say mexico people laugh disgrace best example film testimony mexicans learn live middle crime state perhaps accepted two fires criminals called authorities full corruption even movie wishful thinking almost good people victim crime get unhurt assault without scratch lucky meanwhile lose chance see movie highly recommended beautiful life mexico\n",
            "\n",
            "sentiment:  1\n"
          ],
          "name": "stdout"
        }
      ]
    },
    {
      "cell_type": "code",
      "metadata": {
        "id": "EyCj8XDmXGkp",
        "colab_type": "code",
        "outputId": "323f3bfe-e544-4d00-8762-bd9d86fc04df",
        "colab": {
          "base_uri": "https://localhost:8080/",
          "height": 51
        }
      },
      "source": [
        "test_data = []\n",
        "y_test = []\n",
        "for _fname in tqdm_notebook(test_positive[:n_test], desc=\"Loading +ve test samples: \"):\n",
        "    with open(_fname,encoding=\"utf8\") as f:\n",
        "        text = f.read().strip()\n",
        "        text = re_html_cleaner.sub(\" \", text)\n",
        "        wseq = clean_sentence(text)\n",
        "        test_data.append(wseq)\n",
        "        y_test.append(1)\n",
        "        \n",
        "for _fname in tqdm_notebook(test_negative[:n_test], desc=\"Loading -ve test samples: \"):\n",
        "    with open(_fname,encoding=\"utf8\") as f:\n",
        "        text = f.read().strip()\n",
        "        text = re_html_cleaner.sub(\" \", text)\n",
        "        wseq = clean_sentence(text)\n",
        "        test_data.append(wseq)\n",
        "        y_test.append(0)"
      ],
      "execution_count": 0,
      "outputs": [
        {
          "output_type": "display_data",
          "data": {
            "application/vnd.jupyter.widget-view+json": {
              "model_id": "1dd4a8d3c7cf43d4995d5d98dc8f66e7",
              "version_minor": 0,
              "version_major": 2
            },
            "text/plain": [
              "HBox(children=(IntProgress(value=0, description='Loading +ve test samples: ', max=12500, style=ProgressStyle(d…"
            ]
          },
          "metadata": {
            "tags": []
          }
        },
        {
          "output_type": "stream",
          "text": [
            "\n"
          ],
          "name": "stdout"
        },
        {
          "output_type": "display_data",
          "data": {
            "application/vnd.jupyter.widget-view+json": {
              "model_id": "5be73b17ec6542edaa44eee740d821e9",
              "version_minor": 0,
              "version_major": 2
            },
            "text/plain": [
              "HBox(children=(IntProgress(value=0, description='Loading -ve test samples: ', max=12500, style=ProgressStyle(d…"
            ]
          },
          "metadata": {
            "tags": []
          }
        },
        {
          "output_type": "stream",
          "text": [
            "\n"
          ],
          "name": "stdout"
        }
      ]
    },
    {
      "cell_type": "markdown",
      "metadata": {
        "id": "H6Ct-gKDYydy",
        "colab_type": "text"
      },
      "source": [
        "#### Data preparation"
      ]
    },
    {
      "cell_type": "code",
      "metadata": {
        "id": "ICvdo55IYORf",
        "colab_type": "code",
        "colab": {}
      },
      "source": [
        "tokenizer = Tokenizer(num_words = 10000) # max 10000 words we are keeping, based on the frequency count\n",
        "tokenizer.fit_on_texts(train_data)"
      ],
      "execution_count": 0,
      "outputs": []
    },
    {
      "cell_type": "code",
      "metadata": {
        "id": "esugk7d_ZB1z",
        "colab_type": "code",
        "colab": {}
      },
      "source": [
        "X_train = tokenizer.texts_to_sequences(train_data) ## each word in each train/test sentence is index numerically\n",
        "X_test = tokenizer.texts_to_sequences(test_data)"
      ],
      "execution_count": 0,
      "outputs": []
    },
    {
      "cell_type": "code",
      "metadata": {
        "id": "3BsW4mQxZJkq",
        "colab_type": "code",
        "outputId": "3ab3728d-353a-428f-bdff-f832b23349c2",
        "colab": {
          "base_uri": "https://localhost:8080/",
          "height": 71
        }
      },
      "source": [
        "print(train_data[0])\n",
        "print(X_train[0])"
      ],
      "execution_count": 0,
      "outputs": [
        {
          "output_type": "stream",
          "text": [
            "give four reasons see movie 1 four best filmmakers contemporary mexican cinema 2 four good stories related big scheme 3 surprisingly good cast 4 bitter reflexion biggest trouble country many others possible spoilers alejandro gamboa opens movie good story comedic mood authority practicing extortion regular people still expecting appreciated efforts antonio serrano gets dramatic second piece story heir italian neorealism peter wolf like anecdote third story one seems independent series even context carlos carrera tells us story man wrong place wrong moment recent lynching tlahuac tradition awful matter state mexico story updated end fernando sariñana returns dark humor grand finale puts together characters past sequences one better comedy pieces ever filmed reprising center scene one previous films todo el poder sariñana gives final lesson theme way give us scene steals movie anna ciochetti making brief striptease movie ended get bittersweet feeling looked good movie maybe enjoyed painful subject say mexico people laugh disgrace best example film testimony mexicans learn live middle crime state perhaps accepted two fires criminals called authorities full corruption even movie wishful thinking almost good people victim crime get unhurt assault without scratch lucky meanwhile lose chance see movie highly recommended beautiful life mexico\n",
            "[97, 551, 863, 11, 1, 181, 551, 39, 899, 2237, 2519, 305, 129, 551, 5, 407, 2318, 90, 3959, 220, 1085, 5, 76, 338, 2776, 980, 967, 535, 32, 285, 481, 880, 1876, 1, 5, 9, 1564, 1163, 4134, 9504, 1827, 16, 46, 871, 2379, 1913, 5928, 106, 760, 216, 295, 9, 8810, 960, 662, 3573, 4, 694, 9, 3, 83, 1570, 94, 7, 1867, 7350, 578, 77, 9, 43, 237, 158, 237, 426, 988, 2805, 253, 421, 946, 2512, 9, 6415, 45, 9505, 1595, 335, 356, 1596, 1817, 1313, 178, 26, 374, 702, 3, 44, 102, 1178, 42, 668, 2071, 48, 3, 815, 30, 5241, 287, 350, 1900, 616, 21, 97, 77, 48, 2230, 1, 1927, 121, 1274, 1, 909, 14, 7449, 417, 476, 5, 1, 167, 382, 1202, 724, 47, 2512, 16, 339, 5929, 39, 340, 2, 706, 290, 519, 680, 946, 262, 3069, 29, 7672, 2652, 324, 5736, 248, 4169, 7, 1, 408, 111, 5, 16, 1209, 680, 14, 4623, 100, 6245, 1888, 1944, 1439, 444, 11, 1, 415, 1035, 193, 33, 2512]\n"
          ],
          "name": "stdout"
        }
      ]
    },
    {
      "cell_type": "code",
      "metadata": {
        "id": "AIOu5fNJZTJW",
        "colab_type": "code",
        "outputId": "2fec5f95-1aea-47e2-e592-b56ba4fdcdd1",
        "colab": {
          "base_uri": "https://localhost:8080/",
          "height": 34
        }
      },
      "source": [
        "# Building vocabulary\n",
        "vocab_size = len(tokenizer.word_index) + 1  # 1 is added because the indexig of the words start from 1, \n",
        "                                            # by adding 1 we preserve index 0, not assigned to any word \n",
        "vocab_size"
      ],
      "execution_count": 0,
      "outputs": [
        {
          "output_type": "execute_result",
          "data": {
            "text/plain": [
              "74622"
            ]
          },
          "metadata": {
            "tags": []
          },
          "execution_count": 41
        }
      ]
    },
    {
      "cell_type": "code",
      "metadata": {
        "id": "VRwuhqzLaG4_",
        "colab_type": "code",
        "outputId": "2471fda4-b007-43ac-851a-e8378b9c2bd0",
        "colab": {
          "base_uri": "https://localhost:8080/",
          "height": 68
        }
      },
      "source": [
        "# for example, the index of movie, happy and sad in the vocabulary is :\n",
        "for word in ['movie','happy', 'sad']:\n",
        "    print('{}: {}'.format(word, tokenizer.word_index[word]))"
      ],
      "execution_count": 0,
      "outputs": [
        {
          "output_type": "stream",
          "text": [
            "movie: 1\n",
            "happy: 511\n",
            "sad: 484\n"
          ],
          "name": "stdout"
        }
      ]
    },
    {
      "cell_type": "code",
      "metadata": {
        "id": "tB9TslJ2aTX5",
        "colab_type": "code",
        "colab": {}
      },
      "source": [
        "maxlen = 100 # maximum length of word sequence for a review\n",
        "\n",
        "X_train = pad_sequences(X_train, padding='post', maxlen = maxlen) # if any review is less than maxlen we pad it with zeros to make it upto maxlen length\n",
        "X_test = pad_sequences(X_test, padding='post', maxlen = maxlen)"
      ],
      "execution_count": 0,
      "outputs": []
    },
    {
      "cell_type": "code",
      "metadata": {
        "id": "fYBWUFvgbFQG",
        "colab_type": "code",
        "colab": {}
      },
      "source": [
        "glove_vectors = Magnitude(\"glove.6B.100d.magnitude\") # loading pretrained word embeddings, each word is represented by a 100 dimensional vector"
      ],
      "execution_count": 0,
      "outputs": []
    },
    {
      "cell_type": "code",
      "metadata": {
        "id": "9zGl1wuebZo2",
        "colab_type": "code",
        "outputId": "5c7e5e5f-7e8d-4cd0-ec89-91b7f1909b2c",
        "colab": {
          "base_uri": "https://localhost:8080/",
          "height": 102
        }
      },
      "source": [
        "glove_vectors.query(\"movie\")[:20] ## \"movie\" word index = 1, looking at first 20 dimension of a movie vector"
      ],
      "execution_count": 0,
      "outputs": [
        {
          "output_type": "execute_result",
          "data": {
            "text/plain": [
              "array([ 0.0616435,  0.0238848,  0.0976617, -0.0830481,  0.0708954,\n",
              "        0.009839 , -0.1010701, -0.0040909,  0.0264778, -0.0356169,\n",
              "        0.0232434, -0.0599707, -0.0349433, -0.0143348,  0.0157777,\n",
              "        0.105734 ,  0.1038726,  0.0768678,  0.1351271,  0.2656806],\n",
              "      dtype=float32)"
            ]
          },
          "metadata": {
            "tags": []
          },
          "execution_count": 45
        }
      ]
    },
    {
      "cell_type": "code",
      "metadata": {
        "id": "C1g6dWTJbnsu",
        "colab_type": "code",
        "outputId": "4752c1bf-3352-4d10-ed1d-69de760fafaa",
        "colab": {
          "base_uri": "https://localhost:8080/",
          "height": 34
        }
      },
      "source": [
        "vocab_words = [i for i,value in tokenizer.word_index.items()] ## extracting all vocabulary words in increasing order of the index sequence\n",
        "vocab_words[:5]"
      ],
      "execution_count": 0,
      "outputs": [
        {
          "output_type": "execute_result",
          "data": {
            "text/plain": [
              "['movie', 'film', 'one', 'like', 'good']"
            ]
          },
          "metadata": {
            "tags": []
          },
          "execution_count": 46
        }
      ]
    },
    {
      "cell_type": "code",
      "metadata": {
        "id": "rRpyCgi-b4Sr",
        "colab_type": "code",
        "colab": {}
      },
      "source": [
        "## Creating word embedding matrix for our corpus/vocabulary, extracting required word vectors from the pretrained glove_vectors\n",
        "word_embedding_matrix = np.array(glove_vectors.query(vocab_words))"
      ],
      "execution_count": 0,
      "outputs": []
    },
    {
      "cell_type": "code",
      "metadata": {
        "id": "bWQi_pSgcUx1",
        "colab_type": "code",
        "outputId": "b1ab6266-7a8e-44bb-e530-aa9637ce1137",
        "colab": {
          "base_uri": "https://localhost:8080/",
          "height": 68
        }
      },
      "source": [
        "print(word_embedding_matrix.shape)\n",
        "print(len(vocab_words))\n",
        "vocab_size"
      ],
      "execution_count": 0,
      "outputs": [
        {
          "output_type": "stream",
          "text": [
            "(74621, 100)\n",
            "74621\n"
          ],
          "name": "stdout"
        },
        {
          "output_type": "execute_result",
          "data": {
            "text/plain": [
              "74622"
            ]
          },
          "metadata": {
            "tags": []
          },
          "execution_count": 48
        }
      ]
    },
    {
      "cell_type": "code",
      "metadata": {
        "id": "StVvtKe4cZS3",
        "colab_type": "code",
        "colab": {}
      },
      "source": [
        "# since our vocabulary starts from zero index so the first row in the word_embedding_matrix should be of null\n",
        "# the zeroth row is null vector, word \"movie\" has first index = 1\n",
        "\n",
        "zero_word_vec = np.zeros(100)\n",
        "\n",
        "complete_word_embedding_matrix = np.vstack((zero_word_vec,word_embedding_matrix)) "
      ],
      "execution_count": 0,
      "outputs": []
    },
    {
      "cell_type": "code",
      "metadata": {
        "id": "IttF9lHsdgp_",
        "colab_type": "code",
        "outputId": "c87f176e-a3d0-441a-a0af-3ac1090293fd",
        "colab": {
          "base_uri": "https://localhost:8080/",
          "height": 34
        }
      },
      "source": [
        " ## allmost 100% of our vocabulary is coverd with the pretrained word embeddings from glove\n",
        "nonzero_elements = np.count_nonzero(np.count_nonzero(complete_word_embedding_matrix, axis=1))\n",
        "nonzero_elements / vocab_size  "
      ],
      "execution_count": 0,
      "outputs": [
        {
          "output_type": "execute_result",
          "data": {
            "text/plain": [
              "0.9999865991262631"
            ]
          },
          "metadata": {
            "tags": []
          },
          "execution_count": 50
        }
      ]
    },
    {
      "cell_type": "markdown",
      "metadata": {
        "id": "cHw2UB-Zd0g_",
        "colab_type": "text"
      },
      "source": [
        "## RNN based Classifier Training and Prediction on test data"
      ]
    },
    {
      "cell_type": "code",
      "metadata": {
        "id": "LE6ObYVgdr45",
        "colab_type": "code",
        "colab": {}
      },
      "source": [
        "import matplotlib.pyplot as plt\n",
        "def plot_history(history):\n",
        "    ''' helper function to plot training/testing accuracy and loss with respect to epochs '''\n",
        "    acc = history.history['acc']\n",
        "    val_acc = history.history['val_acc']\n",
        "    loss = history.history['loss']\n",
        "    val_loss = history.history['val_loss']\n",
        "    x = range(1, len(acc) + 1)\n",
        "\n",
        "    plt.figure(figsize=(12, 5))\n",
        "    plt.subplot(1, 2, 1)\n",
        "    plt.plot(x, acc, 'b', label='Training acc')\n",
        "    plt.plot(x, val_acc, 'r', label='Validation acc')\n",
        "    plt.xlabel(\"Epochs\")\n",
        "    plt.title('Training and validation accuracy')\n",
        "    plt.legend()\n",
        "    plt.subplot(1, 2, 2)\n",
        "    plt.plot(x, loss, 'b', label='Training loss')\n",
        "    plt.plot(x, val_loss, 'r', label='Validation loss')\n",
        "    plt.xlabel(\"Epochs\")\n",
        "    plt.title('Training and validation loss')\n",
        "    plt.legend()"
      ],
      "execution_count": 0,
      "outputs": []
    },
    {
      "cell_type": "markdown",
      "metadata": {
        "id": "Y06KEZ2-g-9-",
        "colab_type": "text"
      },
      "source": [
        "#### defining DL classification model\n",
        "##### since there is no class imbalance in the target value ACCURACY on the test set can be good metric to look at for model training. I will calculate the F1 score on the test set using the best accurate model. "
      ]
    },
    {
      "cell_type": "code",
      "metadata": {
        "id": "OqgOMLbies1s",
        "colab_type": "code",
        "outputId": "3e296a61-3eee-4c82-af02-458213f4c9b7",
        "colab": {
          "base_uri": "https://localhost:8080/",
          "height": 360
        }
      },
      "source": [
        "np.random.seed(7)\n",
        "\n",
        "## These model hyper_parameters such as learning rate,batch size, dropout, number of units are found out by grid_search on\n",
        "## hyperparameter space in a seperate notebook.\n",
        "\n",
        "## I am usings our word embedding matrix as pretained weights and the matrix weights will be updated during our model training\n",
        "\n",
        "model = Sequential()\n",
        "model.add(layers.Embedding(input_dim = vocab_size, output_dim = 100, weights=[complete_word_embedding_matrix], trainable=True, input_length = 75))\n",
        "model.add(GRU(128,dropout=0.3, recurrent_dropout=0.3))\n",
        "model.add(Dense(1, activation='sigmoid'))\n",
        "\n",
        "optim = optimizers.Adam(lr=0.001)\n",
        "\n",
        "model.compile(optimizer=optim, loss='binary_crossentropy', metrics = [\"accuracy\"])\n",
        "# # model.summary()"
      ],
      "execution_count": 0,
      "outputs": [
        {
          "output_type": "stream",
          "text": [
            "WARNING: Logging before flag parsing goes to stderr.\n",
            "W0901 02:45:31.291577 140358331389824 deprecation_wrapper.py:119] From /usr/local/lib/python3.6/dist-packages/keras/backend/tensorflow_backend.py:66: The name tf.get_default_graph is deprecated. Please use tf.compat.v1.get_default_graph instead.\n",
            "\n",
            "W0901 02:45:31.337180 140358331389824 deprecation_wrapper.py:119] From /usr/local/lib/python3.6/dist-packages/keras/backend/tensorflow_backend.py:541: The name tf.placeholder is deprecated. Please use tf.compat.v1.placeholder instead.\n",
            "\n",
            "W0901 02:45:31.346199 140358331389824 deprecation_wrapper.py:119] From /usr/local/lib/python3.6/dist-packages/keras/backend/tensorflow_backend.py:4432: The name tf.random_uniform is deprecated. Please use tf.random.uniform instead.\n",
            "\n",
            "W0901 02:45:31.362391 140358331389824 deprecation_wrapper.py:119] From /usr/local/lib/python3.6/dist-packages/keras/backend/tensorflow_backend.py:190: The name tf.get_default_session is deprecated. Please use tf.compat.v1.get_default_session instead.\n",
            "\n",
            "W0901 02:45:31.366197 140358331389824 deprecation_wrapper.py:119] From /usr/local/lib/python3.6/dist-packages/keras/backend/tensorflow_backend.py:197: The name tf.ConfigProto is deprecated. Please use tf.compat.v1.ConfigProto instead.\n",
            "\n",
            "W0901 02:45:42.398748 140358331389824 deprecation.py:506] From /usr/local/lib/python3.6/dist-packages/keras/backend/tensorflow_backend.py:3733: calling dropout (from tensorflow.python.ops.nn_ops) with keep_prob is deprecated and will be removed in a future version.\n",
            "Instructions for updating:\n",
            "Please use `rate` instead of `keep_prob`. Rate should be set to `rate = 1 - keep_prob`.\n",
            "W0901 02:45:42.717651 140358331389824 deprecation_wrapper.py:119] From /usr/local/lib/python3.6/dist-packages/keras/optimizers.py:793: The name tf.train.Optimizer is deprecated. Please use tf.compat.v1.train.Optimizer instead.\n",
            "\n",
            "W0901 02:45:42.735158 140358331389824 deprecation.py:323] From /usr/local/lib/python3.6/dist-packages/tensorflow/python/ops/nn_impl.py:180: add_dispatch_support.<locals>.wrapper (from tensorflow.python.ops.array_ops) is deprecated and will be removed in a future version.\n",
            "Instructions for updating:\n",
            "Use tf.where in 2.0, which has the same broadcast rule as np.where\n"
          ],
          "name": "stderr"
        }
      ]
    },
    {
      "cell_type": "code",
      "metadata": {
        "id": "C7qYYcTmg4iQ",
        "colab_type": "code",
        "outputId": "d04c56c4-32d6-40cd-b955-91e6f606490f",
        "colab": {
          "base_uri": "https://localhost:8080/",
          "height": 204
        }
      },
      "source": [
        "# training our defined model\n",
        "history = model.fit(X_train, y_train, epochs=5, verbose=1, validation_data=(X_test,y_test), batch_size=64) "
      ],
      "execution_count": 0,
      "outputs": [
        {
          "output_type": "stream",
          "text": [
            "Train on 25000 samples, validate on 25000 samples\n",
            "Epoch 1/5\n",
            "25000/25000 [==============================] - 69s 3ms/step - loss: 0.4933 - acc: 0.7562 - val_loss: 0.3590 - val_acc: 0.8476\n",
            "Epoch 2/5\n",
            "25000/25000 [==============================] - 64s 3ms/step - loss: 0.3104 - acc: 0.8780 - val_loss: 0.3071 - val_acc: 0.8701\n",
            "Epoch 3/5\n",
            "25000/25000 [==============================] - 64s 3ms/step - loss: 0.2330 - acc: 0.9128 - val_loss: 0.3146 - val_acc: 0.8655\n",
            "Epoch 4/5\n",
            "25000/25000 [==============================] - 65s 3ms/step - loss: 0.1838 - acc: 0.9334 - val_loss: 0.3423 - val_acc: 0.8604\n",
            "Epoch 5/5\n",
            "25000/25000 [==============================] - 64s 3ms/step - loss: 0.1357 - acc: 0.9531 - val_loss: 0.4092 - val_acc: 0.8509\n"
          ],
          "name": "stdout"
        }
      ]
    },
    {
      "cell_type": "code",
      "metadata": {
        "id": "fzipPSpbhwt-",
        "colab_type": "code",
        "outputId": "babeb24c-9386-4a25-8b43-e3cb6bc82946",
        "colab": {
          "base_uri": "https://localhost:8080/",
          "height": 350
        }
      },
      "source": [
        "# vizualizing our model performance in each epoch to diagnose overfitting and find out optimal number of epochs for model training.\n",
        "plot_history(history)"
      ],
      "execution_count": 0,
      "outputs": [
        {
          "output_type": "display_data",
          "data": {
            "image/png": "[encoded data removed]",
            "text/plain": [
              "<Figure size 864x360 with 2 Axes>"
            ]
          },
          "metadata": {
            "tags": []
          }
        }
      ]
    },
    {
      "cell_type": "markdown",
      "metadata": {
        "id": "1ZsVKR-rjYDq",
        "colab_type": "text"
      },
      "source": [
        "From the plot we can easily see that our model starts overfitting after two epochs.\n",
        "So we will train our model only for 2 epochs and use this model to predict the test data sentiment."
      ]
    },
    {
      "cell_type": "markdown",
      "metadata": {
        "id": "dsI9Ltiajtqe",
        "colab_type": "text"
      },
      "source": [
        "#### training the model for 2 epochs"
      ]
    },
    {
      "cell_type": "code",
      "metadata": {
        "id": "l1fkvpyZjq25",
        "colab_type": "code",
        "outputId": "cccd5a30-84aa-4a55-aa65-2b023e3456b0",
        "colab": {
          "base_uri": "https://localhost:8080/",
          "height": 68
        }
      },
      "source": [
        "np.random.seed(7)\n",
        "model = Sequential()\n",
        "model.add(layers.Embedding(input_dim = vocab_size, output_dim = 100, weights=[complete_word_embedding_matrix], trainable=True, input_length = 100))\n",
        "model.add(GRU(128,dropout=0.3, recurrent_dropout=0.3))\n",
        "model.add(Dense(1, activation='sigmoid'))\n",
        "optim = optimizers.Adam(lr=0.001)\n",
        "model.compile(optimizer=optim, loss='binary_crossentropy', metrics = [\"accuracy\"])\n",
        "\n",
        "model.fit(X_train, y_train, epochs=2, verbose=1, validation_data=(X_test,y_test), batch_size=64)"
      ],
      "execution_count": 0,
      "outputs": [
        {
          "output_type": "stream",
          "text": [
            "Train on 25000 samples, validate on 25000 samples\n",
            "Epoch 1/2\n",
            " 5632/25000 [=====>........................] - ETA: 53s - loss: 0.6742 - acc: 0.5540"
          ],
          "name": "stdout"
        }
      ]
    },
    {
      "cell_type": "markdown",
      "metadata": {
        "id": "JrkfuTeclGCk",
        "colab_type": "text"
      },
      "source": [
        "#### predicting the class probability on the test dataset"
      ]
    },
    {
      "cell_type": "code",
      "metadata": {
        "id": "ULfWf9dKkYEu",
        "colab_type": "code",
        "colab": {}
      },
      "source": [
        "y_pred = model.predict_proba(X_test)"
      ],
      "execution_count": 0,
      "outputs": []
    },
    {
      "cell_type": "markdown",
      "metadata": {
        "id": "xxNfxiLPlTut",
        "colab_type": "text"
      },
      "source": [
        "#### changing the class probability into crisp classification to calcualte F1 score on the test dataset. \n",
        "\n",
        "#### Probability >= 0.5 : Positive review\n",
        "#### Probability < 0.5 : Negative review"
      ]
    },
    {
      "cell_type": "code",
      "metadata": {
        "id": "uhN7622llMOD",
        "colab_type": "code",
        "outputId": "26309e43-0533-42b9-9e2d-39671946f15a",
        "colab": {
          "base_uri": "https://localhost:8080/",
          "height": 34
        }
      },
      "source": [
        "y_pred_class =  np.where(y_pred>=0.5,1,0)\n",
        "print(\"F1 score on test data: \",f1_score(y_test,y_pred_class))"
      ],
      "execution_count": 0,
      "outputs": [
        {
          "output_type": "stream",
          "text": [
            "F1 score on test data:  0.8595348069943913\n"
          ],
          "name": "stdout"
        }
      ]
    }
  ]
}